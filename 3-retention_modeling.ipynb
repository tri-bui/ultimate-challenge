{
 "cells": [
  {
   "cell_type": "markdown",
   "metadata": {},
   "source": [
    "# Ultimate Challenge - Retention Modeling"
   ]
  },
  {
   "cell_type": "markdown",
   "metadata": {},
   "source": [
    "### Dependencies & data"
   ]
  },
  {
   "cell_type": "code",
   "execution_count": 1,
   "metadata": {},
   "outputs": [],
   "source": [
    "# Dependencies\n",
    "import datetime as dt\n",
    "import numpy as np\n",
    "import pandas as pd\n",
    "import matplotlib.pyplot as plt\n",
    "import seaborn as sns\n",
    "# import plotly.graph_objects as go\n",
    "# import plotly.express as px\n",
    "from sklearn.model_selection import train_test_split, GridSearchCV\n",
    "from sklearn.preprocessing import StandardScaler\n",
    "from sklearn.model_selection import cross_val_score\n",
    "from sklearn.metrics import roc_auc_score, confusion_matrix\n",
    "from sklearn.linear_model import LogisticRegression\n",
    "from sklearn.tree import DecisionTreeClassifier\n",
    "\n",
    "# Settings\n",
    "# pd.options.plotting.backend = 'plotly'\n",
    "sns.set()\n",
    "%matplotlib inline"
   ]
  },
  {
   "cell_type": "code",
   "execution_count": 2,
   "metadata": {},
   "outputs": [
    {
     "data": {
      "text/html": [
       "<div>\n",
       "<style scoped>\n",
       "    .dataframe tbody tr th:only-of-type {\n",
       "        vertical-align: middle;\n",
       "    }\n",
       "\n",
       "    .dataframe tbody tr th {\n",
       "        vertical-align: top;\n",
       "    }\n",
       "\n",
       "    .dataframe thead th {\n",
       "        text-align: right;\n",
       "    }\n",
       "</style>\n",
       "<table border=\"1\" class=\"dataframe\">\n",
       "  <thead>\n",
       "    <tr style=\"text-align: right;\">\n",
       "      <th></th>\n",
       "      <th>city</th>\n",
       "      <th>trips_in_first_30_days</th>\n",
       "      <th>signup_date</th>\n",
       "      <th>avg_rating_of_driver</th>\n",
       "      <th>avg_surge</th>\n",
       "      <th>last_trip_date</th>\n",
       "      <th>phone</th>\n",
       "      <th>surge_pct</th>\n",
       "      <th>ultimate_black_user</th>\n",
       "      <th>weekday_pct</th>\n",
       "      <th>avg_dist</th>\n",
       "      <th>avg_rating_by_driver</th>\n",
       "    </tr>\n",
       "  </thead>\n",
       "  <tbody>\n",
       "    <tr>\n",
       "      <th>0</th>\n",
       "      <td>King's Landing</td>\n",
       "      <td>4</td>\n",
       "      <td>2014-01-25</td>\n",
       "      <td>4.7</td>\n",
       "      <td>1.10</td>\n",
       "      <td>2014-06-17</td>\n",
       "      <td>iPhone</td>\n",
       "      <td>15.4</td>\n",
       "      <td>True</td>\n",
       "      <td>46.2</td>\n",
       "      <td>3.67</td>\n",
       "      <td>5.0</td>\n",
       "    </tr>\n",
       "    <tr>\n",
       "      <th>1</th>\n",
       "      <td>Astapor</td>\n",
       "      <td>0</td>\n",
       "      <td>2014-01-29</td>\n",
       "      <td>5.0</td>\n",
       "      <td>1.00</td>\n",
       "      <td>2014-05-05</td>\n",
       "      <td>Android</td>\n",
       "      <td>0.0</td>\n",
       "      <td>False</td>\n",
       "      <td>50.0</td>\n",
       "      <td>8.26</td>\n",
       "      <td>5.0</td>\n",
       "    </tr>\n",
       "    <tr>\n",
       "      <th>2</th>\n",
       "      <td>Astapor</td>\n",
       "      <td>3</td>\n",
       "      <td>2014-01-06</td>\n",
       "      <td>4.3</td>\n",
       "      <td>1.00</td>\n",
       "      <td>2014-01-07</td>\n",
       "      <td>iPhone</td>\n",
       "      <td>0.0</td>\n",
       "      <td>False</td>\n",
       "      <td>100.0</td>\n",
       "      <td>0.77</td>\n",
       "      <td>5.0</td>\n",
       "    </tr>\n",
       "    <tr>\n",
       "      <th>3</th>\n",
       "      <td>King's Landing</td>\n",
       "      <td>9</td>\n",
       "      <td>2014-01-10</td>\n",
       "      <td>4.6</td>\n",
       "      <td>1.14</td>\n",
       "      <td>2014-06-29</td>\n",
       "      <td>iPhone</td>\n",
       "      <td>20.0</td>\n",
       "      <td>True</td>\n",
       "      <td>80.0</td>\n",
       "      <td>2.36</td>\n",
       "      <td>4.9</td>\n",
       "    </tr>\n",
       "    <tr>\n",
       "      <th>4</th>\n",
       "      <td>Winterfell</td>\n",
       "      <td>14</td>\n",
       "      <td>2014-01-27</td>\n",
       "      <td>4.4</td>\n",
       "      <td>1.19</td>\n",
       "      <td>2014-03-15</td>\n",
       "      <td>Android</td>\n",
       "      <td>11.8</td>\n",
       "      <td>False</td>\n",
       "      <td>82.4</td>\n",
       "      <td>3.13</td>\n",
       "      <td>4.9</td>\n",
       "    </tr>\n",
       "  </tbody>\n",
       "</table>\n",
       "</div>"
      ],
      "text/plain": [
       "             city  trips_in_first_30_days signup_date  avg_rating_of_driver  \\\n",
       "0  King's Landing                       4  2014-01-25                   4.7   \n",
       "1         Astapor                       0  2014-01-29                   5.0   \n",
       "2         Astapor                       3  2014-01-06                   4.3   \n",
       "3  King's Landing                       9  2014-01-10                   4.6   \n",
       "4      Winterfell                      14  2014-01-27                   4.4   \n",
       "\n",
       "   avg_surge last_trip_date    phone  surge_pct  ultimate_black_user  \\\n",
       "0       1.10     2014-06-17   iPhone       15.4                 True   \n",
       "1       1.00     2014-05-05  Android        0.0                False   \n",
       "2       1.00     2014-01-07   iPhone        0.0                False   \n",
       "3       1.14     2014-06-29   iPhone       20.0                 True   \n",
       "4       1.19     2014-03-15  Android       11.8                False   \n",
       "\n",
       "   weekday_pct  avg_dist  avg_rating_by_driver  \n",
       "0         46.2      3.67                   5.0  \n",
       "1         50.0      8.26                   5.0  \n",
       "2        100.0      0.77                   5.0  \n",
       "3         80.0      2.36                   4.9  \n",
       "4         82.4      3.13                   4.9  "
      ]
     },
     "execution_count": 2,
     "metadata": {},
     "output_type": "execute_result"
    }
   ],
   "source": [
    "# User data\n",
    "user_df = pd.read_json('ultimate_data_challenge.json')\n",
    "user_df.head()"
   ]
  },
  {
   "cell_type": "markdown",
   "metadata": {},
   "source": [
    "### Date columns"
   ]
  },
  {
   "cell_type": "code",
   "execution_count": 3,
   "metadata": {},
   "outputs": [
    {
     "name": "stdout",
     "output_type": "stream",
     "text": [
      "<class 'pandas.core.frame.DataFrame'>\n",
      "RangeIndex: 50000 entries, 0 to 49999\n",
      "Data columns (total 12 columns):\n",
      " #   Column                  Non-Null Count  Dtype         \n",
      "---  ------                  --------------  -----         \n",
      " 0   city                    50000 non-null  object        \n",
      " 1   trips_in_first_30_days  50000 non-null  int64         \n",
      " 2   signup_date             50000 non-null  datetime64[ns]\n",
      " 3   avg_rating_of_driver    41878 non-null  float64       \n",
      " 4   avg_surge               50000 non-null  float64       \n",
      " 5   last_trip_date          50000 non-null  datetime64[ns]\n",
      " 6   phone                   49604 non-null  object        \n",
      " 7   surge_pct               50000 non-null  float64       \n",
      " 8   ultimate_black_user     50000 non-null  bool          \n",
      " 9   weekday_pct             50000 non-null  float64       \n",
      " 10  avg_dist                50000 non-null  float64       \n",
      " 11  avg_rating_by_driver    49799 non-null  float64       \n",
      "dtypes: bool(1), datetime64[ns](2), float64(6), int64(1), object(2)\n",
      "memory usage: 4.2+ MB\n"
     ]
    }
   ],
   "source": [
    "# Convert date columns to datetime\n",
    "user_df['signup_date'] = pd.to_datetime(user_df['signup_date'])\n",
    "user_df['last_trip_date'] = pd.to_datetime(user_df['last_trip_date'])\n",
    "user_df.info()"
   ]
  },
  {
   "cell_type": "code",
   "execution_count": 4,
   "metadata": {},
   "outputs": [
    {
     "name": "stdout",
     "output_type": "stream",
     "text": [
      "Signup date range: 2014-01-01 - 2014-01-31\n",
      "Last-trip date range: 2014-01-01 - 2014-07-01\n"
     ]
    },
    {
     "data": {
      "image/png": "[encoded data removed]",
      "text/plain": [
       "<Figure size 1080x360 with 1 Axes>"
      ]
     },
     "metadata": {
      "needs_background": "light"
     },
     "output_type": "display_data"
    }
   ],
   "source": [
    "# Date ranges\n",
    "user_df['signup_date'].value_counts().plot(figsize=(15, 5), legend=True,\n",
    "                                           xlim=(user_df['signup_date'].min(), user_df['last_trip_date'].max()))\n",
    "user_df['last_trip_date'].value_counts().plot(legend=True)\n",
    "plt.title('Date Ranges', fontsize=15)\n",
    "plt.xticks(rotation=0, ha='center')\n",
    "plt.xlabel('Date')\n",
    "plt.ylabel('Users')\n",
    "\n",
    "print(f\"Signup date range: {user_df['signup_date'].min().date()} - {user_df['signup_date'].max().date()}\")\n",
    "print(f\"Last-trip date range: {user_df['last_trip_date'].min().date()} - {user_df['last_trip_date'].max().date()}\")"
   ]
  },
  {
   "cell_type": "markdown",
   "metadata": {},
   "source": [
    "##### The dataset contains only users who signed up in January but their data carries on for 6 months."
   ]
  },
  {
   "cell_type": "code",
   "execution_count": 5,
   "metadata": {},
   "outputs": [
    {
     "data": {
      "text/html": [
       "<div>\n",
       "<style scoped>\n",
       "    .dataframe tbody tr th:only-of-type {\n",
       "        vertical-align: middle;\n",
       "    }\n",
       "\n",
       "    .dataframe tbody tr th {\n",
       "        vertical-align: top;\n",
       "    }\n",
       "\n",
       "    .dataframe thead th {\n",
       "        text-align: right;\n",
       "    }\n",
       "</style>\n",
       "<table border=\"1\" class=\"dataframe\">\n",
       "  <thead>\n",
       "    <tr style=\"text-align: right;\">\n",
       "      <th></th>\n",
       "      <th>city</th>\n",
       "      <th>trips_in_first_30_days</th>\n",
       "      <th>signup_date</th>\n",
       "      <th>avg_rating_of_driver</th>\n",
       "      <th>avg_surge</th>\n",
       "      <th>last_trip_date</th>\n",
       "      <th>phone</th>\n",
       "      <th>surge_pct</th>\n",
       "      <th>ultimate_black_user</th>\n",
       "      <th>weekday_pct</th>\n",
       "      <th>avg_dist</th>\n",
       "      <th>avg_rating_by_driver</th>\n",
       "      <th>first_month_user</th>\n",
       "      <th>retained_user</th>\n",
       "      <th>days_as_user</th>\n",
       "    </tr>\n",
       "  </thead>\n",
       "  <tbody>\n",
       "    <tr>\n",
       "      <th>0</th>\n",
       "      <td>King's Landing</td>\n",
       "      <td>4</td>\n",
       "      <td>2014-01-25</td>\n",
       "      <td>4.7</td>\n",
       "      <td>1.10</td>\n",
       "      <td>2014-06-17</td>\n",
       "      <td>iPhone</td>\n",
       "      <td>15.4</td>\n",
       "      <td>True</td>\n",
       "      <td>46.2</td>\n",
       "      <td>3.67</td>\n",
       "      <td>5.0</td>\n",
       "      <td>1</td>\n",
       "      <td>1</td>\n",
       "      <td>143</td>\n",
       "    </tr>\n",
       "    <tr>\n",
       "      <th>1</th>\n",
       "      <td>Astapor</td>\n",
       "      <td>0</td>\n",
       "      <td>2014-01-29</td>\n",
       "      <td>5.0</td>\n",
       "      <td>1.00</td>\n",
       "      <td>2014-05-05</td>\n",
       "      <td>Android</td>\n",
       "      <td>0.0</td>\n",
       "      <td>False</td>\n",
       "      <td>50.0</td>\n",
       "      <td>8.26</td>\n",
       "      <td>5.0</td>\n",
       "      <td>0</td>\n",
       "      <td>0</td>\n",
       "      <td>96</td>\n",
       "    </tr>\n",
       "    <tr>\n",
       "      <th>2</th>\n",
       "      <td>Astapor</td>\n",
       "      <td>3</td>\n",
       "      <td>2014-01-06</td>\n",
       "      <td>4.3</td>\n",
       "      <td>1.00</td>\n",
       "      <td>2014-01-07</td>\n",
       "      <td>iPhone</td>\n",
       "      <td>0.0</td>\n",
       "      <td>False</td>\n",
       "      <td>100.0</td>\n",
       "      <td>0.77</td>\n",
       "      <td>5.0</td>\n",
       "      <td>1</td>\n",
       "      <td>0</td>\n",
       "      <td>1</td>\n",
       "    </tr>\n",
       "    <tr>\n",
       "      <th>3</th>\n",
       "      <td>King's Landing</td>\n",
       "      <td>9</td>\n",
       "      <td>2014-01-10</td>\n",
       "      <td>4.6</td>\n",
       "      <td>1.14</td>\n",
       "      <td>2014-06-29</td>\n",
       "      <td>iPhone</td>\n",
       "      <td>20.0</td>\n",
       "      <td>True</td>\n",
       "      <td>80.0</td>\n",
       "      <td>2.36</td>\n",
       "      <td>4.9</td>\n",
       "      <td>1</td>\n",
       "      <td>1</td>\n",
       "      <td>170</td>\n",
       "    </tr>\n",
       "    <tr>\n",
       "      <th>4</th>\n",
       "      <td>Winterfell</td>\n",
       "      <td>14</td>\n",
       "      <td>2014-01-27</td>\n",
       "      <td>4.4</td>\n",
       "      <td>1.19</td>\n",
       "      <td>2014-03-15</td>\n",
       "      <td>Android</td>\n",
       "      <td>11.8</td>\n",
       "      <td>False</td>\n",
       "      <td>82.4</td>\n",
       "      <td>3.13</td>\n",
       "      <td>4.9</td>\n",
       "      <td>1</td>\n",
       "      <td>0</td>\n",
       "      <td>47</td>\n",
       "    </tr>\n",
       "  </tbody>\n",
       "</table>\n",
       "</div>"
      ],
      "text/plain": [
       "             city  trips_in_first_30_days signup_date  avg_rating_of_driver  \\\n",
       "0  King's Landing                       4  2014-01-25                   4.7   \n",
       "1         Astapor                       0  2014-01-29                   5.0   \n",
       "2         Astapor                       3  2014-01-06                   4.3   \n",
       "3  King's Landing                       9  2014-01-10                   4.6   \n",
       "4      Winterfell                      14  2014-01-27                   4.4   \n",
       "\n",
       "   avg_surge last_trip_date    phone  surge_pct  ultimate_black_user  \\\n",
       "0       1.10     2014-06-17   iPhone       15.4                 True   \n",
       "1       1.00     2014-05-05  Android        0.0                False   \n",
       "2       1.00     2014-01-07   iPhone        0.0                False   \n",
       "3       1.14     2014-06-29   iPhone       20.0                 True   \n",
       "4       1.19     2014-03-15  Android       11.8                False   \n",
       "\n",
       "   weekday_pct  avg_dist  avg_rating_by_driver  first_month_user  \\\n",
       "0         46.2      3.67                   5.0                 1   \n",
       "1         50.0      8.26                   5.0                 0   \n",
       "2        100.0      0.77                   5.0                 1   \n",
       "3         80.0      2.36                   4.9                 1   \n",
       "4         82.4      3.13                   4.9                 1   \n",
       "\n",
       "   retained_user  days_as_user  \n",
       "0              1           143  \n",
       "1              0            96  \n",
       "2              0             1  \n",
       "3              1           170  \n",
       "4              0            47  "
      ]
     },
     "execution_count": 5,
     "metadata": {},
     "output_type": "execute_result"
    }
   ],
   "source": [
    "# Create binary indicators for date columns\n",
    "user_df['first_month_user'] = user_df['trips_in_first_30_days'].apply(lambda t: min(t, 1))\n",
    "user_df['retained_user'] = (user_df['last_trip_date'] >= dt.datetime(2014, 6, 1)).astype(int)\n",
    "\n",
    "# Calculate days as user\n",
    "user_df['days_as_user'] = (user_df['last_trip_date'] - user_df['signup_date']).dt.days # regression target label\n",
    "user_df.head()"
   ]
  },
  {
   "cell_type": "markdown",
   "metadata": {},
   "source": [
    "##### The target variable `retained_user` indicates whether a user is currently a retained user (i.e., the user last used the service in the month of June). This doesn't account for the user's signup date in January so it wouldn't exactly be an accurate indicator of whether or not the user is active in their 6th month. For example, user A signed up on January 1st and user B signed up on January 31st. Both users last used the service on June 1st, which means they're both considered retained users, but user B has only been a member for 4 months (not 5). A better way of determining whether a user was active in their 6th month of use is to base it on `days_as_user`, which does account for their signup date. "
   ]
  },
  {
   "cell_type": "code",
   "execution_count": 6,
   "metadata": {},
   "outputs": [
    {
     "data": {
      "text/html": [
       "<div>\n",
       "<style scoped>\n",
       "    .dataframe tbody tr th:only-of-type {\n",
       "        vertical-align: middle;\n",
       "    }\n",
       "\n",
       "    .dataframe tbody tr th {\n",
       "        vertical-align: top;\n",
       "    }\n",
       "\n",
       "    .dataframe thead th {\n",
       "        text-align: right;\n",
       "    }\n",
       "</style>\n",
       "<table border=\"1\" class=\"dataframe\">\n",
       "  <thead>\n",
       "    <tr style=\"text-align: right;\">\n",
       "      <th></th>\n",
       "      <th>city</th>\n",
       "      <th>trips_in_first_30_days</th>\n",
       "      <th>signup_date</th>\n",
       "      <th>avg_rating_of_driver</th>\n",
       "      <th>avg_surge</th>\n",
       "      <th>last_trip_date</th>\n",
       "      <th>phone</th>\n",
       "      <th>surge_pct</th>\n",
       "      <th>ultimate_black_user</th>\n",
       "      <th>weekday_pct</th>\n",
       "      <th>avg_dist</th>\n",
       "      <th>avg_rating_by_driver</th>\n",
       "      <th>first_month_user</th>\n",
       "      <th>retained_user</th>\n",
       "      <th>days_as_user</th>\n",
       "      <th>retained_user_alt</th>\n",
       "    </tr>\n",
       "  </thead>\n",
       "  <tbody>\n",
       "    <tr>\n",
       "      <th>0</th>\n",
       "      <td>King's Landing</td>\n",
       "      <td>4</td>\n",
       "      <td>2014-01-25</td>\n",
       "      <td>4.7</td>\n",
       "      <td>1.10</td>\n",
       "      <td>2014-06-17</td>\n",
       "      <td>iPhone</td>\n",
       "      <td>15.4</td>\n",
       "      <td>True</td>\n",
       "      <td>46.2</td>\n",
       "      <td>3.67</td>\n",
       "      <td>5.0</td>\n",
       "      <td>1</td>\n",
       "      <td>1</td>\n",
       "      <td>143</td>\n",
       "      <td>0</td>\n",
       "    </tr>\n",
       "    <tr>\n",
       "      <th>5</th>\n",
       "      <td>Winterfell</td>\n",
       "      <td>2</td>\n",
       "      <td>2014-01-09</td>\n",
       "      <td>3.5</td>\n",
       "      <td>1.00</td>\n",
       "      <td>2014-06-06</td>\n",
       "      <td>iPhone</td>\n",
       "      <td>0.0</td>\n",
       "      <td>True</td>\n",
       "      <td>100.0</td>\n",
       "      <td>10.56</td>\n",
       "      <td>5.0</td>\n",
       "      <td>1</td>\n",
       "      <td>1</td>\n",
       "      <td>148</td>\n",
       "      <td>0</td>\n",
       "    </tr>\n",
       "    <tr>\n",
       "      <th>13</th>\n",
       "      <td>King's Landing</td>\n",
       "      <td>0</td>\n",
       "      <td>2014-01-29</td>\n",
       "      <td>4.0</td>\n",
       "      <td>1.38</td>\n",
       "      <td>2014-06-08</td>\n",
       "      <td>iPhone</td>\n",
       "      <td>50.0</td>\n",
       "      <td>False</td>\n",
       "      <td>50.0</td>\n",
       "      <td>3.04</td>\n",
       "      <td>5.0</td>\n",
       "      <td>0</td>\n",
       "      <td>1</td>\n",
       "      <td>130</td>\n",
       "      <td>0</td>\n",
       "    </tr>\n",
       "    <tr>\n",
       "      <th>18</th>\n",
       "      <td>King's Landing</td>\n",
       "      <td>6</td>\n",
       "      <td>2014-01-28</td>\n",
       "      <td>4.6</td>\n",
       "      <td>1.21</td>\n",
       "      <td>2014-06-24</td>\n",
       "      <td>iPhone</td>\n",
       "      <td>30.8</td>\n",
       "      <td>True</td>\n",
       "      <td>80.8</td>\n",
       "      <td>6.83</td>\n",
       "      <td>4.8</td>\n",
       "      <td>1</td>\n",
       "      <td>1</td>\n",
       "      <td>147</td>\n",
       "      <td>0</td>\n",
       "    </tr>\n",
       "    <tr>\n",
       "      <th>23</th>\n",
       "      <td>King's Landing</td>\n",
       "      <td>0</td>\n",
       "      <td>2014-01-21</td>\n",
       "      <td>5.0</td>\n",
       "      <td>1.00</td>\n",
       "      <td>2014-06-13</td>\n",
       "      <td>Android</td>\n",
       "      <td>0.0</td>\n",
       "      <td>True</td>\n",
       "      <td>100.0</td>\n",
       "      <td>7.74</td>\n",
       "      <td>5.0</td>\n",
       "      <td>0</td>\n",
       "      <td>1</td>\n",
       "      <td>143</td>\n",
       "      <td>0</td>\n",
       "    </tr>\n",
       "    <tr>\n",
       "      <th>...</th>\n",
       "      <td>...</td>\n",
       "      <td>...</td>\n",
       "      <td>...</td>\n",
       "      <td>...</td>\n",
       "      <td>...</td>\n",
       "      <td>...</td>\n",
       "      <td>...</td>\n",
       "      <td>...</td>\n",
       "      <td>...</td>\n",
       "      <td>...</td>\n",
       "      <td>...</td>\n",
       "      <td>...</td>\n",
       "      <td>...</td>\n",
       "      <td>...</td>\n",
       "      <td>...</td>\n",
       "      <td>...</td>\n",
       "    </tr>\n",
       "    <tr>\n",
       "      <th>49952</th>\n",
       "      <td>Astapor</td>\n",
       "      <td>3</td>\n",
       "      <td>2014-01-25</td>\n",
       "      <td>5.0</td>\n",
       "      <td>1.03</td>\n",
       "      <td>2014-06-24</td>\n",
       "      <td>iPhone</td>\n",
       "      <td>12.5</td>\n",
       "      <td>False</td>\n",
       "      <td>100.0</td>\n",
       "      <td>3.61</td>\n",
       "      <td>4.8</td>\n",
       "      <td>1</td>\n",
       "      <td>1</td>\n",
       "      <td>150</td>\n",
       "      <td>0</td>\n",
       "    </tr>\n",
       "    <tr>\n",
       "      <th>49962</th>\n",
       "      <td>Winterfell</td>\n",
       "      <td>2</td>\n",
       "      <td>2014-01-25</td>\n",
       "      <td>NaN</td>\n",
       "      <td>1.00</td>\n",
       "      <td>2014-06-12</td>\n",
       "      <td>iPhone</td>\n",
       "      <td>0.0</td>\n",
       "      <td>False</td>\n",
       "      <td>100.0</td>\n",
       "      <td>8.13</td>\n",
       "      <td>5.0</td>\n",
       "      <td>1</td>\n",
       "      <td>1</td>\n",
       "      <td>138</td>\n",
       "      <td>0</td>\n",
       "    </tr>\n",
       "    <tr>\n",
       "      <th>49966</th>\n",
       "      <td>King's Landing</td>\n",
       "      <td>4</td>\n",
       "      <td>2014-01-31</td>\n",
       "      <td>3.8</td>\n",
       "      <td>1.00</td>\n",
       "      <td>2014-06-21</td>\n",
       "      <td>iPhone</td>\n",
       "      <td>0.0</td>\n",
       "      <td>True</td>\n",
       "      <td>60.0</td>\n",
       "      <td>4.86</td>\n",
       "      <td>4.9</td>\n",
       "      <td>1</td>\n",
       "      <td>1</td>\n",
       "      <td>141</td>\n",
       "      <td>0</td>\n",
       "    </tr>\n",
       "    <tr>\n",
       "      <th>49988</th>\n",
       "      <td>King's Landing</td>\n",
       "      <td>1</td>\n",
       "      <td>2014-01-20</td>\n",
       "      <td>4.5</td>\n",
       "      <td>1.00</td>\n",
       "      <td>2014-06-14</td>\n",
       "      <td>iPhone</td>\n",
       "      <td>0.0</td>\n",
       "      <td>False</td>\n",
       "      <td>50.0</td>\n",
       "      <td>2.53</td>\n",
       "      <td>5.0</td>\n",
       "      <td>1</td>\n",
       "      <td>1</td>\n",
       "      <td>145</td>\n",
       "      <td>0</td>\n",
       "    </tr>\n",
       "    <tr>\n",
       "      <th>49995</th>\n",
       "      <td>King's Landing</td>\n",
       "      <td>0</td>\n",
       "      <td>2014-01-25</td>\n",
       "      <td>5.0</td>\n",
       "      <td>1.00</td>\n",
       "      <td>2014-06-05</td>\n",
       "      <td>iPhone</td>\n",
       "      <td>0.0</td>\n",
       "      <td>False</td>\n",
       "      <td>100.0</td>\n",
       "      <td>5.63</td>\n",
       "      <td>4.2</td>\n",
       "      <td>0</td>\n",
       "      <td>1</td>\n",
       "      <td>131</td>\n",
       "      <td>0</td>\n",
       "    </tr>\n",
       "  </tbody>\n",
       "</table>\n",
       "<p>6606 rows × 16 columns</p>\n",
       "</div>"
      ],
      "text/plain": [
       "                 city  trips_in_first_30_days signup_date  \\\n",
       "0      King's Landing                       4  2014-01-25   \n",
       "5          Winterfell                       2  2014-01-09   \n",
       "13     King's Landing                       0  2014-01-29   \n",
       "18     King's Landing                       6  2014-01-28   \n",
       "23     King's Landing                       0  2014-01-21   \n",
       "...               ...                     ...         ...   \n",
       "49952         Astapor                       3  2014-01-25   \n",
       "49962      Winterfell                       2  2014-01-25   \n",
       "49966  King's Landing                       4  2014-01-31   \n",
       "49988  King's Landing                       1  2014-01-20   \n",
       "49995  King's Landing                       0  2014-01-25   \n",
       "\n",
       "       avg_rating_of_driver  avg_surge last_trip_date    phone  surge_pct  \\\n",
       "0                       4.7       1.10     2014-06-17   iPhone       15.4   \n",
       "5                       3.5       1.00     2014-06-06   iPhone        0.0   \n",
       "13                      4.0       1.38     2014-06-08   iPhone       50.0   \n",
       "18                      4.6       1.21     2014-06-24   iPhone       30.8   \n",
       "23                      5.0       1.00     2014-06-13  Android        0.0   \n",
       "...                     ...        ...            ...      ...        ...   \n",
       "49952                   5.0       1.03     2014-06-24   iPhone       12.5   \n",
       "49962                   NaN       1.00     2014-06-12   iPhone        0.0   \n",
       "49966                   3.8       1.00     2014-06-21   iPhone        0.0   \n",
       "49988                   4.5       1.00     2014-06-14   iPhone        0.0   \n",
       "49995                   5.0       1.00     2014-06-05   iPhone        0.0   \n",
       "\n",
       "       ultimate_black_user  weekday_pct  avg_dist  avg_rating_by_driver  \\\n",
       "0                     True         46.2      3.67                   5.0   \n",
       "5                     True        100.0     10.56                   5.0   \n",
       "13                   False         50.0      3.04                   5.0   \n",
       "18                    True         80.8      6.83                   4.8   \n",
       "23                    True        100.0      7.74                   5.0   \n",
       "...                    ...          ...       ...                   ...   \n",
       "49952                False        100.0      3.61                   4.8   \n",
       "49962                False        100.0      8.13                   5.0   \n",
       "49966                 True         60.0      4.86                   4.9   \n",
       "49988                False         50.0      2.53                   5.0   \n",
       "49995                False        100.0      5.63                   4.2   \n",
       "\n",
       "       first_month_user  retained_user  days_as_user  retained_user_alt  \n",
       "0                     1              1           143                  0  \n",
       "5                     1              1           148                  0  \n",
       "13                    0              1           130                  0  \n",
       "18                    1              1           147                  0  \n",
       "23                    0              1           143                  0  \n",
       "...                 ...            ...           ...                ...  \n",
       "49952                 1              1           150                  0  \n",
       "49962                 1              1           138                  0  \n",
       "49966                 1              1           141                  0  \n",
       "49988                 1              1           145                  0  \n",
       "49995                 0              1           131                  0  \n",
       "\n",
       "[6606 rows x 16 columns]"
      ]
     },
     "execution_count": 6,
     "metadata": {},
     "output_type": "execute_result"
    }
   ],
   "source": [
    "# Add a new classification target label based on days as user\n",
    "user_df['retained_user_alt'] = (user_df['days_as_user'] > 150).astype(int)\n",
    "user_df[user_df['retained_user'] != user_df['retained_user_alt']]"
   ]
  },
  {
   "cell_type": "markdown",
   "metadata": {},
   "source": [
    "### Train/test split"
   ]
  },
  {
   "cell_type": "code",
   "execution_count": 7,
   "metadata": {},
   "outputs": [],
   "source": [
    "def combinexy(X, y):\n",
    "    return X.merge(y, left_index=True, right_index=True)"
   ]
  },
  {
   "cell_type": "code",
   "execution_count": 8,
   "metadata": {},
   "outputs": [
    {
     "data": {
      "text/plain": [
       "((50000, 13), (50000,), (50000,))"
      ]
     },
     "execution_count": 8,
     "metadata": {},
     "output_type": "execute_result"
    }
   ],
   "source": [
    "# Split features and labels\n",
    "X = user_df.drop(['retained_user', 'retained_user_alt', 'days_as_user'], axis=1)\n",
    "y = user_df['retained_user']\n",
    "y_alt = user_df['retained_user_alt']\n",
    "y_reg = user_df['days_as_user']\n",
    "X.shape, y.shape, y_alt.shape"
   ]
  },
  {
   "cell_type": "code",
   "execution_count": 9,
   "metadata": {},
   "outputs": [
    {
     "name": "stdout",
     "output_type": "stream",
     "text": [
      "Train: (40000, 13) (40000,)\n",
      "Test: (10000, 13) (10000,)\n"
     ]
    }
   ],
   "source": [
    "# Train/test split\n",
    "X_train, X_test, y_train, y_test = train_test_split(X, y, stratify=y, test_size=0.20, random_state=20)\n",
    "print('Train:', X_train.shape, y_train.shape)\n",
    "print('Test:', X_test.shape, y_test.shape)"
   ]
  },
  {
   "cell_type": "code",
   "execution_count": 10,
   "metadata": {},
   "outputs": [
    {
     "data": {
      "text/plain": [
       "(40000, 14)"
      ]
     },
     "execution_count": 10,
     "metadata": {},
     "output_type": "execute_result"
    }
   ],
   "source": [
    "# Combine train set\n",
    "train_df = combinexy(X_train, y_train)\n",
    "train_df.shape"
   ]
  },
  {
   "cell_type": "markdown",
   "metadata": {},
   "source": [
    "### Duplicated data"
   ]
  },
  {
   "cell_type": "code",
   "execution_count": 11,
   "metadata": {},
   "outputs": [
    {
     "data": {
      "text/plain": [
       "3"
      ]
     },
     "execution_count": 11,
     "metadata": {},
     "output_type": "execute_result"
    }
   ],
   "source": [
    "# Duplicated count\n",
    "X_train.duplicated().sum()"
   ]
  },
  {
   "cell_type": "code",
   "execution_count": 12,
   "metadata": {},
   "outputs": [
    {
     "data": {
      "text/html": [
       "<div>\n",
       "<style scoped>\n",
       "    .dataframe tbody tr th:only-of-type {\n",
       "        vertical-align: middle;\n",
       "    }\n",
       "\n",
       "    .dataframe tbody tr th {\n",
       "        vertical-align: top;\n",
       "    }\n",
       "\n",
       "    .dataframe thead th {\n",
       "        text-align: right;\n",
       "    }\n",
       "</style>\n",
       "<table border=\"1\" class=\"dataframe\">\n",
       "  <thead>\n",
       "    <tr style=\"text-align: right;\">\n",
       "      <th></th>\n",
       "      <th>city</th>\n",
       "      <th>trips_in_first_30_days</th>\n",
       "      <th>signup_date</th>\n",
       "      <th>avg_rating_of_driver</th>\n",
       "      <th>avg_surge</th>\n",
       "      <th>last_trip_date</th>\n",
       "      <th>phone</th>\n",
       "      <th>surge_pct</th>\n",
       "      <th>ultimate_black_user</th>\n",
       "      <th>weekday_pct</th>\n",
       "      <th>avg_dist</th>\n",
       "      <th>avg_rating_by_driver</th>\n",
       "      <th>first_month_user</th>\n",
       "    </tr>\n",
       "  </thead>\n",
       "  <tbody>\n",
       "    <tr>\n",
       "      <th>116</th>\n",
       "      <td>Winterfell</td>\n",
       "      <td>1</td>\n",
       "      <td>2014-01-10</td>\n",
       "      <td>5.0</td>\n",
       "      <td>1.0</td>\n",
       "      <td>2014-01-11</td>\n",
       "      <td>Android</td>\n",
       "      <td>0.0</td>\n",
       "      <td>False</td>\n",
       "      <td>100.0</td>\n",
       "      <td>0.00</td>\n",
       "      <td>5.0</td>\n",
       "      <td>1</td>\n",
       "    </tr>\n",
       "    <tr>\n",
       "      <th>26709</th>\n",
       "      <td>Winterfell</td>\n",
       "      <td>1</td>\n",
       "      <td>2014-01-01</td>\n",
       "      <td>NaN</td>\n",
       "      <td>1.0</td>\n",
       "      <td>2014-01-02</td>\n",
       "      <td>Android</td>\n",
       "      <td>0.0</td>\n",
       "      <td>False</td>\n",
       "      <td>100.0</td>\n",
       "      <td>8.08</td>\n",
       "      <td>5.0</td>\n",
       "      <td>1</td>\n",
       "    </tr>\n",
       "    <tr>\n",
       "      <th>3134</th>\n",
       "      <td>Astapor</td>\n",
       "      <td>1</td>\n",
       "      <td>2014-01-20</td>\n",
       "      <td>5.0</td>\n",
       "      <td>1.0</td>\n",
       "      <td>2014-01-20</td>\n",
       "      <td>iPhone</td>\n",
       "      <td>0.0</td>\n",
       "      <td>False</td>\n",
       "      <td>100.0</td>\n",
       "      <td>3.06</td>\n",
       "      <td>5.0</td>\n",
       "      <td>1</td>\n",
       "    </tr>\n",
       "    <tr>\n",
       "      <th>29601</th>\n",
       "      <td>Winterfell</td>\n",
       "      <td>1</td>\n",
       "      <td>2014-01-01</td>\n",
       "      <td>NaN</td>\n",
       "      <td>1.0</td>\n",
       "      <td>2014-01-02</td>\n",
       "      <td>Android</td>\n",
       "      <td>0.0</td>\n",
       "      <td>False</td>\n",
       "      <td>100.0</td>\n",
       "      <td>8.08</td>\n",
       "      <td>5.0</td>\n",
       "      <td>1</td>\n",
       "    </tr>\n",
       "    <tr>\n",
       "      <th>45416</th>\n",
       "      <td>Astapor</td>\n",
       "      <td>1</td>\n",
       "      <td>2014-01-20</td>\n",
       "      <td>5.0</td>\n",
       "      <td>1.0</td>\n",
       "      <td>2014-01-20</td>\n",
       "      <td>iPhone</td>\n",
       "      <td>0.0</td>\n",
       "      <td>False</td>\n",
       "      <td>100.0</td>\n",
       "      <td>3.06</td>\n",
       "      <td>5.0</td>\n",
       "      <td>1</td>\n",
       "    </tr>\n",
       "    <tr>\n",
       "      <th>39601</th>\n",
       "      <td>Winterfell</td>\n",
       "      <td>1</td>\n",
       "      <td>2014-01-10</td>\n",
       "      <td>5.0</td>\n",
       "      <td>1.0</td>\n",
       "      <td>2014-01-11</td>\n",
       "      <td>Android</td>\n",
       "      <td>0.0</td>\n",
       "      <td>False</td>\n",
       "      <td>100.0</td>\n",
       "      <td>0.00</td>\n",
       "      <td>5.0</td>\n",
       "      <td>1</td>\n",
       "    </tr>\n",
       "  </tbody>\n",
       "</table>\n",
       "</div>"
      ],
      "text/plain": [
       "             city  trips_in_first_30_days signup_date  avg_rating_of_driver  \\\n",
       "116    Winterfell                       1  2014-01-10                   5.0   \n",
       "26709  Winterfell                       1  2014-01-01                   NaN   \n",
       "3134      Astapor                       1  2014-01-20                   5.0   \n",
       "29601  Winterfell                       1  2014-01-01                   NaN   \n",
       "45416     Astapor                       1  2014-01-20                   5.0   \n",
       "39601  Winterfell                       1  2014-01-10                   5.0   \n",
       "\n",
       "       avg_surge last_trip_date    phone  surge_pct  ultimate_black_user  \\\n",
       "116          1.0     2014-01-11  Android        0.0                False   \n",
       "26709        1.0     2014-01-02  Android        0.0                False   \n",
       "3134         1.0     2014-01-20   iPhone        0.0                False   \n",
       "29601        1.0     2014-01-02  Android        0.0                False   \n",
       "45416        1.0     2014-01-20   iPhone        0.0                False   \n",
       "39601        1.0     2014-01-11  Android        0.0                False   \n",
       "\n",
       "       weekday_pct  avg_dist  avg_rating_by_driver  first_month_user  \n",
       "116          100.0      0.00                   5.0                 1  \n",
       "26709        100.0      8.08                   5.0                 1  \n",
       "3134         100.0      3.06                   5.0                 1  \n",
       "29601        100.0      8.08                   5.0                 1  \n",
       "45416        100.0      3.06                   5.0                 1  \n",
       "39601        100.0      0.00                   5.0                 1  "
      ]
     },
     "execution_count": 12,
     "metadata": {},
     "output_type": "execute_result"
    }
   ],
   "source": [
    "# Duplicated records\n",
    "X_train[X_train.duplicated(keep=False)]"
   ]
  },
  {
   "cell_type": "markdown",
   "metadata": {},
   "source": [
    "##### It is unclear whether these are actually duplicated users, so they will not be dropped."
   ]
  },
  {
   "cell_type": "markdown",
   "metadata": {},
   "source": [
    "### Missing data"
   ]
  },
  {
   "cell_type": "code",
   "execution_count": 13,
   "metadata": {},
   "outputs": [
    {
     "data": {
      "text/html": [
       "<div>\n",
       "<style scoped>\n",
       "    .dataframe tbody tr th:only-of-type {\n",
       "        vertical-align: middle;\n",
       "    }\n",
       "\n",
       "    .dataframe tbody tr th {\n",
       "        vertical-align: top;\n",
       "    }\n",
       "\n",
       "    .dataframe thead th {\n",
       "        text-align: right;\n",
       "    }\n",
       "</style>\n",
       "<table border=\"1\" class=\"dataframe\">\n",
       "  <thead>\n",
       "    <tr style=\"text-align: right;\">\n",
       "      <th></th>\n",
       "      <th>num_missing</th>\n",
       "      <th>pct_missing</th>\n",
       "    </tr>\n",
       "  </thead>\n",
       "  <tbody>\n",
       "    <tr>\n",
       "      <th>avg_rating_of_driver</th>\n",
       "      <td>6490</td>\n",
       "      <td>16.23</td>\n",
       "    </tr>\n",
       "    <tr>\n",
       "      <th>phone</th>\n",
       "      <td>310</td>\n",
       "      <td>0.78</td>\n",
       "    </tr>\n",
       "    <tr>\n",
       "      <th>avg_rating_by_driver</th>\n",
       "      <td>165</td>\n",
       "      <td>0.41</td>\n",
       "    </tr>\n",
       "  </tbody>\n",
       "</table>\n",
       "</div>"
      ],
      "text/plain": [
       "                      num_missing  pct_missing\n",
       "avg_rating_of_driver         6490        16.23\n",
       "phone                         310         0.78\n",
       "avg_rating_by_driver          165         0.41"
      ]
     },
     "execution_count": 13,
     "metadata": {},
     "output_type": "execute_result"
    }
   ],
   "source": [
    "# Missing count\n",
    "missing_df = pd.DataFrame(X_train.isnull().sum(), columns=['num_missing'])\n",
    "missing_df['pct_missing'] = np.round(X_train.isnull().mean() * 100, 2)\n",
    "missing_df[missing_df['num_missing'] > 0]"
   ]
  },
  {
   "cell_type": "code",
   "execution_count": 14,
   "metadata": {},
   "outputs": [
    {
     "data": {
      "image/png": "[encoded data removed]",
      "text/plain": [
       "<Figure size 1080x360 with 1 Axes>"
      ]
     },
     "metadata": {
      "needs_background": "light"
     },
     "output_type": "display_data"
    }
   ],
   "source": [
    "# Plot average rating of driver\n",
    "X_train['avg_rating_of_driver'].plot(kind='hist', bins=30, figsize=(15, 5))\n",
    "plt.title('Distribution of Average Rating of Driver', fontsize=15)\n",
    "plt.xlabel('Average Rating of Driver')\n",
    "plt.ylabel('Count')\n",
    "plt.yscale('log')\n",
    "plt.xlim(1, 5);"
   ]
  },
  {
   "cell_type": "markdown",
   "metadata": {},
   "source": [
    "##### 6490 users did not rate their drivers. The assumption here is that these users experienced \"average\" rides (not good or bad enough to warrant taking the time to leave a review) so these missing driver ratings will be imputed with the mean driver rating. A similar assumption is made for `avg_rating_by_driver` so its values will be imputed with the mean. Missing `phone` values will be imputed with the most common phone among users."
   ]
  },
  {
   "cell_type": "code",
   "execution_count": 15,
   "metadata": {},
   "outputs": [
    {
     "data": {
      "text/html": [
       "<div>\n",
       "<style scoped>\n",
       "    .dataframe tbody tr th:only-of-type {\n",
       "        vertical-align: middle;\n",
       "    }\n",
       "\n",
       "    .dataframe tbody tr th {\n",
       "        vertical-align: top;\n",
       "    }\n",
       "\n",
       "    .dataframe thead th {\n",
       "        text-align: right;\n",
       "    }\n",
       "</style>\n",
       "<table border=\"1\" class=\"dataframe\">\n",
       "  <thead>\n",
       "    <tr style=\"text-align: right;\">\n",
       "      <th></th>\n",
       "      <th>trips_in_first_30_days</th>\n",
       "      <th>avg_rating_of_driver</th>\n",
       "      <th>avg_surge</th>\n",
       "      <th>surge_pct</th>\n",
       "      <th>weekday_pct</th>\n",
       "      <th>avg_dist</th>\n",
       "      <th>avg_rating_by_driver</th>\n",
       "      <th>first_month_user</th>\n",
       "    </tr>\n",
       "  </thead>\n",
       "  <tbody>\n",
       "    <tr>\n",
       "      <th>count</th>\n",
       "      <td>40000.000000</td>\n",
       "      <td>40000.000000</td>\n",
       "      <td>40000.000000</td>\n",
       "      <td>40000.000000</td>\n",
       "      <td>40000.000000</td>\n",
       "      <td>40000.000000</td>\n",
       "      <td>40000.000000</td>\n",
       "      <td>40000.000000</td>\n",
       "    </tr>\n",
       "    <tr>\n",
       "      <th>mean</th>\n",
       "      <td>2.272700</td>\n",
       "      <td>4.602358</td>\n",
       "      <td>1.075052</td>\n",
       "      <td>8.863862</td>\n",
       "      <td>61.015250</td>\n",
       "      <td>5.799195</td>\n",
       "      <td>4.776472</td>\n",
       "      <td>0.691200</td>\n",
       "    </tr>\n",
       "    <tr>\n",
       "      <th>std</th>\n",
       "      <td>3.791602</td>\n",
       "      <td>0.563884</td>\n",
       "      <td>0.224875</td>\n",
       "      <td>20.040742</td>\n",
       "      <td>37.071124</td>\n",
       "      <td>5.687513</td>\n",
       "      <td>0.449199</td>\n",
       "      <td>0.462004</td>\n",
       "    </tr>\n",
       "    <tr>\n",
       "      <th>min</th>\n",
       "      <td>0.000000</td>\n",
       "      <td>1.000000</td>\n",
       "      <td>1.000000</td>\n",
       "      <td>0.000000</td>\n",
       "      <td>0.000000</td>\n",
       "      <td>0.000000</td>\n",
       "      <td>1.000000</td>\n",
       "      <td>0.000000</td>\n",
       "    </tr>\n",
       "    <tr>\n",
       "      <th>25%</th>\n",
       "      <td>0.000000</td>\n",
       "      <td>4.500000</td>\n",
       "      <td>1.000000</td>\n",
       "      <td>0.000000</td>\n",
       "      <td>33.300000</td>\n",
       "      <td>2.420000</td>\n",
       "      <td>4.700000</td>\n",
       "      <td>0.000000</td>\n",
       "    </tr>\n",
       "    <tr>\n",
       "      <th>50%</th>\n",
       "      <td>1.000000</td>\n",
       "      <td>4.800000</td>\n",
       "      <td>1.000000</td>\n",
       "      <td>0.000000</td>\n",
       "      <td>66.700000</td>\n",
       "      <td>3.890000</td>\n",
       "      <td>5.000000</td>\n",
       "      <td>1.000000</td>\n",
       "    </tr>\n",
       "    <tr>\n",
       "      <th>75%</th>\n",
       "      <td>3.000000</td>\n",
       "      <td>5.000000</td>\n",
       "      <td>1.050000</td>\n",
       "      <td>8.300000</td>\n",
       "      <td>100.000000</td>\n",
       "      <td>6.930000</td>\n",
       "      <td>5.000000</td>\n",
       "      <td>1.000000</td>\n",
       "    </tr>\n",
       "    <tr>\n",
       "      <th>max</th>\n",
       "      <td>125.000000</td>\n",
       "      <td>5.000000</td>\n",
       "      <td>8.000000</td>\n",
       "      <td>100.000000</td>\n",
       "      <td>100.000000</td>\n",
       "      <td>129.890000</td>\n",
       "      <td>5.000000</td>\n",
       "      <td>1.000000</td>\n",
       "    </tr>\n",
       "  </tbody>\n",
       "</table>\n",
       "</div>"
      ],
      "text/plain": [
       "       trips_in_first_30_days  avg_rating_of_driver     avg_surge  \\\n",
       "count            40000.000000          40000.000000  40000.000000   \n",
       "mean                 2.272700              4.602358      1.075052   \n",
       "std                  3.791602              0.563884      0.224875   \n",
       "min                  0.000000              1.000000      1.000000   \n",
       "25%                  0.000000              4.500000      1.000000   \n",
       "50%                  1.000000              4.800000      1.000000   \n",
       "75%                  3.000000              5.000000      1.050000   \n",
       "max                125.000000              5.000000      8.000000   \n",
       "\n",
       "          surge_pct   weekday_pct      avg_dist  avg_rating_by_driver  \\\n",
       "count  40000.000000  40000.000000  40000.000000          40000.000000   \n",
       "mean       8.863862     61.015250      5.799195              4.776472   \n",
       "std       20.040742     37.071124      5.687513              0.449199   \n",
       "min        0.000000      0.000000      0.000000              1.000000   \n",
       "25%        0.000000     33.300000      2.420000              4.700000   \n",
       "50%        0.000000     66.700000      3.890000              5.000000   \n",
       "75%        8.300000    100.000000      6.930000              5.000000   \n",
       "max      100.000000    100.000000    129.890000              5.000000   \n",
       "\n",
       "       first_month_user  \n",
       "count      40000.000000  \n",
       "mean           0.691200  \n",
       "std            0.462004  \n",
       "min            0.000000  \n",
       "25%            0.000000  \n",
       "50%            1.000000  \n",
       "75%            1.000000  \n",
       "max            1.000000  "
      ]
     },
     "execution_count": 15,
     "metadata": {},
     "output_type": "execute_result"
    }
   ],
   "source": [
    "# Impute rating columns with mean\n",
    "X_train['avg_rating_of_driver'].fillna(round(X_train['avg_rating_of_driver'].mean(), 1), inplace=True)\n",
    "X_train['avg_rating_by_driver'].fillna(round(X_train['avg_rating_by_driver'].mean(), 1), inplace=True)\n",
    "\n",
    "# Impute phone column with mode\n",
    "X_train['phone'].fillna(X_train['phone'].mode()[0], inplace=True)\n",
    "X_train.describe()"
   ]
  },
  {
   "cell_type": "markdown",
   "metadata": {},
   "source": [
    "##### The following 2 values in the dataframe above are exceedingly high and nowhere near their mean:\n",
    "##### 1. `trips_in_first_30_days` max - to have taken 125 trips in the first 30 days means the user took an average of about 4 rides a day including on weekends\n",
    "##### 2. `avg_dist` max - 129.89 miles is an excessive distance for an average distance\n",
    "##### These outliers need to be inspected to see if they might be errors."
   ]
  },
  {
   "cell_type": "markdown",
   "metadata": {},
   "source": [
    "### Outliers"
   ]
  },
  {
   "cell_type": "code",
   "execution_count": 16,
   "metadata": {},
   "outputs": [
    {
     "data": {
      "image/png": "[encoded data removed]",
      "text/plain": [
       "<Figure size 1080x360 with 1 Axes>"
      ]
     },
     "metadata": {
      "needs_background": "light"
     },
     "output_type": "display_data"
    }
   ],
   "source": [
    "# Plot trips in first 30 days\n",
    "X_train['trips_in_first_30_days'].plot(kind='hist', bins=30, figsize=(15, 5))\n",
    "plt.title('Distribution of Trips in the First 30 Days', fontsize=15)\n",
    "plt.xlabel('Trips in First 30 Days')\n",
    "plt.ylabel('Count')\n",
    "plt.yscale('log')\n",
    "plt.xlim(0, X_train['trips_in_first_30_days'].max());"
   ]
  },
  {
   "cell_type": "code",
   "execution_count": 17,
   "metadata": {},
   "outputs": [
    {
     "data": {
      "text/html": [
       "<div>\n",
       "<style scoped>\n",
       "    .dataframe tbody tr th:only-of-type {\n",
       "        vertical-align: middle;\n",
       "    }\n",
       "\n",
       "    .dataframe tbody tr th {\n",
       "        vertical-align: top;\n",
       "    }\n",
       "\n",
       "    .dataframe thead th {\n",
       "        text-align: right;\n",
       "    }\n",
       "</style>\n",
       "<table border=\"1\" class=\"dataframe\">\n",
       "  <thead>\n",
       "    <tr style=\"text-align: right;\">\n",
       "      <th></th>\n",
       "      <th>city</th>\n",
       "      <th>trips_in_first_30_days</th>\n",
       "      <th>signup_date</th>\n",
       "      <th>avg_rating_of_driver</th>\n",
       "      <th>avg_surge</th>\n",
       "      <th>last_trip_date</th>\n",
       "      <th>phone</th>\n",
       "      <th>surge_pct</th>\n",
       "      <th>ultimate_black_user</th>\n",
       "      <th>weekday_pct</th>\n",
       "      <th>avg_dist</th>\n",
       "      <th>avg_rating_by_driver</th>\n",
       "      <th>first_month_user</th>\n",
       "    </tr>\n",
       "  </thead>\n",
       "  <tbody>\n",
       "    <tr>\n",
       "      <th>18514</th>\n",
       "      <td>King's Landing</td>\n",
       "      <td>125</td>\n",
       "      <td>2014-01-02</td>\n",
       "      <td>5.0</td>\n",
       "      <td>1.12</td>\n",
       "      <td>2014-06-30</td>\n",
       "      <td>iPhone</td>\n",
       "      <td>14.4</td>\n",
       "      <td>True</td>\n",
       "      <td>72.0</td>\n",
       "      <td>2.02</td>\n",
       "      <td>4.8</td>\n",
       "      <td>1</td>\n",
       "    </tr>\n",
       "  </tbody>\n",
       "</table>\n",
       "</div>"
      ],
      "text/plain": [
       "                 city  trips_in_first_30_days signup_date  \\\n",
       "18514  King's Landing                     125  2014-01-02   \n",
       "\n",
       "       avg_rating_of_driver  avg_surge last_trip_date   phone  surge_pct  \\\n",
       "18514                   5.0       1.12     2014-06-30  iPhone       14.4   \n",
       "\n",
       "       ultimate_black_user  weekday_pct  avg_dist  avg_rating_by_driver  \\\n",
       "18514                 True         72.0      2.02                   4.8   \n",
       "\n",
       "       first_month_user  \n",
       "18514                 1  "
      ]
     },
     "execution_count": 17,
     "metadata": {},
     "output_type": "execute_result"
    }
   ],
   "source": [
    "# Inspect outlier for trips in first 30 days\n",
    "X_train[X_train['trips_in_first_30_days'] > 80]"
   ]
  },
  {
   "cell_type": "markdown",
   "metadata": {},
   "source": [
    "##### It's hard to say whether or not this outlier is real data because the next highest `trips_in_first_30_days` value is under 80, but there's nothing about the user that really disputes this. Since this user has used Ultimate Black and has taken a ride on June 30th, it's likely that this is in fact a regular user. A `weekday_pct` of 72% means the user is not only taking rides on weekdays and an `avg_dist` of 2.02 miles could mean the user takes rides whenever he or she needs to go anywhere. To be clear, none of these things support the outlier is real, but rather they don't conflict with it."
   ]
  },
  {
   "cell_type": "code",
   "execution_count": 18,
   "metadata": {},
   "outputs": [
    {
     "data": {
      "image/png": "[encoded data removed]",
      "text/plain": [
       "<Figure size 1080x360 with 1 Axes>"
      ]
     },
     "metadata": {
      "needs_background": "light"
     },
     "output_type": "display_data"
    }
   ],
   "source": [
    "# Plot average distance\n",
    "X_train['avg_dist'].plot(kind='hist', bins=30, figsize=(15, 5))\n",
    "plt.title('Distribution of Average Distance', fontsize=15)\n",
    "plt.xlabel('Average Distance')\n",
    "plt.ylabel('Count')\n",
    "plt.yscale('log')\n",
    "plt.xlim(0, X_train['avg_dist'].max());"
   ]
  },
  {
   "cell_type": "code",
   "execution_count": 19,
   "metadata": {},
   "outputs": [
    {
     "data": {
      "text/html": [
       "<div>\n",
       "<style scoped>\n",
       "    .dataframe tbody tr th:only-of-type {\n",
       "        vertical-align: middle;\n",
       "    }\n",
       "\n",
       "    .dataframe tbody tr th {\n",
       "        vertical-align: top;\n",
       "    }\n",
       "\n",
       "    .dataframe thead th {\n",
       "        text-align: right;\n",
       "    }\n",
       "</style>\n",
       "<table border=\"1\" class=\"dataframe\">\n",
       "  <thead>\n",
       "    <tr style=\"text-align: right;\">\n",
       "      <th></th>\n",
       "      <th>city</th>\n",
       "      <th>trips_in_first_30_days</th>\n",
       "      <th>signup_date</th>\n",
       "      <th>avg_rating_of_driver</th>\n",
       "      <th>avg_surge</th>\n",
       "      <th>last_trip_date</th>\n",
       "      <th>phone</th>\n",
       "      <th>surge_pct</th>\n",
       "      <th>ultimate_black_user</th>\n",
       "      <th>weekday_pct</th>\n",
       "      <th>avg_dist</th>\n",
       "      <th>avg_rating_by_driver</th>\n",
       "      <th>first_month_user</th>\n",
       "    </tr>\n",
       "  </thead>\n",
       "  <tbody>\n",
       "    <tr>\n",
       "      <th>534</th>\n",
       "      <td>King's Landing</td>\n",
       "      <td>0</td>\n",
       "      <td>2014-01-04</td>\n",
       "      <td>4.6</td>\n",
       "      <td>1.0</td>\n",
       "      <td>2014-03-09</td>\n",
       "      <td>iPhone</td>\n",
       "      <td>0.0</td>\n",
       "      <td>False</td>\n",
       "      <td>0.0</td>\n",
       "      <td>129.89</td>\n",
       "      <td>5.0</td>\n",
       "      <td>0</td>\n",
       "    </tr>\n",
       "  </tbody>\n",
       "</table>\n",
       "</div>"
      ],
      "text/plain": [
       "               city  trips_in_first_30_days signup_date  avg_rating_of_driver  \\\n",
       "534  King's Landing                       0  2014-01-04                   4.6   \n",
       "\n",
       "     avg_surge last_trip_date   phone  surge_pct  ultimate_black_user  \\\n",
       "534        1.0     2014-03-09  iPhone        0.0                False   \n",
       "\n",
       "     weekday_pct  avg_dist  avg_rating_by_driver  first_month_user  \n",
       "534          0.0    129.89                   5.0                 0  "
      ]
     },
     "execution_count": 19,
     "metadata": {},
     "output_type": "execute_result"
    }
   ],
   "source": [
    "# Inspect outlier for average distance\n",
    "X_train[X_train['avg_dist'] > 80]"
   ]
  },
  {
   "cell_type": "markdown",
   "metadata": {},
   "source": [
    "##### Looking at the `trips_in_first_30_days`, `surge_pct`, `ultimate_black_user`, and `weekday_pct` values, it's plausible that this user has only taken 1 trip. The idea is that a long distance for a single ride is more likely than for an average of multiple rides. So there is not enough evidence to suggest this outlier is erroneous data."
   ]
  },
  {
   "cell_type": "markdown",
   "metadata": {},
   "source": [
    "### EDA"
   ]
  },
  {
   "cell_type": "code",
   "execution_count": 20,
   "metadata": {},
   "outputs": [
    {
     "data": {
      "image/png": "[encoded data removed]",
      "text/plain": [
       "<Figure size 1080x360 with 3 Axes>"
      ]
     },
     "metadata": {
      "needs_background": "light"
     },
     "output_type": "display_data"
    }
   ],
   "source": [
    "# # Convert `ultimate_black_user` to integer type\n",
    "# X_train['ultimate_black_user'] = X_train['ultimate_black_user'].astype(int)\n",
    "\n",
    "# Categorical variables\n",
    "fig1, ax1 = plt.subplots(1, 3, sharey=True, figsize=(15, 5))\n",
    "sns.countplot(x=X_train['city'], ax=ax1[0])\n",
    "sns.countplot(x=X_train['phone'], ax=ax1[1])\n",
    "sns.countplot(x=X_train['ultimate_black_user'], ax=ax1[2])\n",
    "fig1.suptitle('Categorical Variables', fontsize=15)\n",
    "ax1[0].set_xlabel('City')\n",
    "ax1[1].set_xlabel('Phone')\n",
    "ax1[2].set_xlabel('Ultimate Black User')\n",
    "ax1[0].set_ylabel('Users')\n",
    "ax1[1].set_ylabel(None)\n",
    "ax1[2].set_ylabel(None);"
   ]
  },
  {
   "cell_type": "code",
   "execution_count": 21,
   "metadata": {},
   "outputs": [
    {
     "data": {
      "text/html": [
       "<div>\n",
       "<style scoped>\n",
       "    .dataframe tbody tr th:only-of-type {\n",
       "        vertical-align: middle;\n",
       "    }\n",
       "\n",
       "    .dataframe tbody tr th {\n",
       "        vertical-align: top;\n",
       "    }\n",
       "\n",
       "    .dataframe thead th {\n",
       "        text-align: right;\n",
       "    }\n",
       "</style>\n",
       "<table border=\"1\" class=\"dataframe\">\n",
       "  <thead>\n",
       "    <tr style=\"text-align: right;\">\n",
       "      <th></th>\n",
       "      <th>num_users</th>\n",
       "      <th>pct_users</th>\n",
       "    </tr>\n",
       "  </thead>\n",
       "  <tbody>\n",
       "    <tr>\n",
       "      <th>first_month_user</th>\n",
       "      <td>27648</td>\n",
       "      <td>69.12</td>\n",
       "    </tr>\n",
       "    <tr>\n",
       "      <th>retained_user</th>\n",
       "      <td>15043</td>\n",
       "      <td>37.61</td>\n",
       "    </tr>\n",
       "  </tbody>\n",
       "</table>\n",
       "</div>"
      ],
      "text/plain": [
       "                  num_users  pct_users\n",
       "first_month_user      27648      69.12\n",
       "retained_user         15043      37.61"
      ]
     },
     "execution_count": 21,
     "metadata": {},
     "output_type": "execute_result"
    }
   ],
   "source": [
    "# Combine train set\n",
    "train_df = combinexy(X_train, y_train)\n",
    "\n",
    "# Count users in the first and last month\n",
    "retained_users = pd.DataFrame(train_df[['first_month_user', 'retained_user']].sum(), columns=['num_users'])\n",
    "retained_users['pct_users'] = train_df[['first_month_user', 'retained_user']].mean().round(4) * 100\n",
    "retained_users"
   ]
  },
  {
   "cell_type": "code",
   "execution_count": 22,
   "metadata": {},
   "outputs": [
    {
     "data": {
      "text/html": [
       "<div>\n",
       "<style scoped>\n",
       "    .dataframe tbody tr th:only-of-type {\n",
       "        vertical-align: middle;\n",
       "    }\n",
       "\n",
       "    .dataframe tbody tr th {\n",
       "        vertical-align: top;\n",
       "    }\n",
       "\n",
       "    .dataframe thead th {\n",
       "        text-align: right;\n",
       "    }\n",
       "</style>\n",
       "<table border=\"1\" class=\"dataframe\">\n",
       "  <thead>\n",
       "    <tr style=\"text-align: right;\">\n",
       "      <th></th>\n",
       "      <th>retained_user</th>\n",
       "      <th>lost_user</th>\n",
       "    </tr>\n",
       "    <tr>\n",
       "      <th>first_month_user</th>\n",
       "      <th></th>\n",
       "      <th></th>\n",
       "    </tr>\n",
       "  </thead>\n",
       "  <tbody>\n",
       "    <tr>\n",
       "      <th>False</th>\n",
       "      <td>4466</td>\n",
       "      <td>7886</td>\n",
       "    </tr>\n",
       "    <tr>\n",
       "      <th>True</th>\n",
       "      <td>10577</td>\n",
       "      <td>17071</td>\n",
       "    </tr>\n",
       "  </tbody>\n",
       "</table>\n",
       "</div>"
      ],
      "text/plain": [
       "                  retained_user  lost_user\n",
       "first_month_user                          \n",
       "False                      4466       7886\n",
       "True                      10577      17071"
      ]
     },
     "execution_count": 22,
     "metadata": {},
     "output_type": "execute_result"
    }
   ],
   "source": [
    "# Retained users by first month usage\n",
    "user_matrix = train_df[['first_month_user', 'retained_user']].copy()\n",
    "user_matrix['lost_user'] = (user_matrix['retained_user'] == 0).astype(int)\n",
    "user_matrix.groupby('first_month_user').sum().rename({0: False, 1: True})"
   ]
  },
  {
   "cell_type": "markdown",
   "metadata": {},
   "source": [
    "##### 15,043 of January signups were retained users, 10,577 of which used the service within their first 30 days."
   ]
  },
  {
   "cell_type": "code",
   "execution_count": 23,
   "metadata": {},
   "outputs": [
    {
     "data": {
      "text/html": [
       "<div>\n",
       "<style scoped>\n",
       "    .dataframe tbody tr th:only-of-type {\n",
       "        vertical-align: middle;\n",
       "    }\n",
       "\n",
       "    .dataframe tbody tr th {\n",
       "        vertical-align: top;\n",
       "    }\n",
       "\n",
       "    .dataframe thead th {\n",
       "        text-align: right;\n",
       "    }\n",
       "</style>\n",
       "<table border=\"1\" class=\"dataframe\">\n",
       "  <thead>\n",
       "    <tr style=\"text-align: right;\">\n",
       "      <th></th>\n",
       "      <th>first_month_user</th>\n",
       "      <th>retained_user</th>\n",
       "    </tr>\n",
       "    <tr>\n",
       "      <th>city</th>\n",
       "      <th></th>\n",
       "      <th></th>\n",
       "    </tr>\n",
       "  </thead>\n",
       "  <tbody>\n",
       "    <tr>\n",
       "      <th>Astapor</th>\n",
       "      <td>8945</td>\n",
       "      <td>3370</td>\n",
       "    </tr>\n",
       "    <tr>\n",
       "      <th>King's Landing</th>\n",
       "      <td>5257</td>\n",
       "      <td>5086</td>\n",
       "    </tr>\n",
       "    <tr>\n",
       "      <th>Winterfell</th>\n",
       "      <td>13446</td>\n",
       "      <td>6587</td>\n",
       "    </tr>\n",
       "  </tbody>\n",
       "</table>\n",
       "</div>"
      ],
      "text/plain": [
       "                first_month_user  retained_user\n",
       "city                                           \n",
       "Astapor                     8945           3370\n",
       "King's Landing              5257           5086\n",
       "Winterfell                 13446           6587"
      ]
     },
     "execution_count": 23,
     "metadata": {},
     "output_type": "execute_result"
    }
   ],
   "source": [
    "# Users by city\n",
    "train_df.groupby('city')[['first_month_user', 'retained_user']].sum()"
   ]
  },
  {
   "cell_type": "code",
   "execution_count": 24,
   "metadata": {},
   "outputs": [
    {
     "data": {
      "text/html": [
       "<div>\n",
       "<style scoped>\n",
       "    .dataframe tbody tr th:only-of-type {\n",
       "        vertical-align: middle;\n",
       "    }\n",
       "\n",
       "    .dataframe tbody tr th {\n",
       "        vertical-align: top;\n",
       "    }\n",
       "\n",
       "    .dataframe thead th {\n",
       "        text-align: right;\n",
       "    }\n",
       "</style>\n",
       "<table border=\"1\" class=\"dataframe\">\n",
       "  <thead>\n",
       "    <tr style=\"text-align: right;\">\n",
       "      <th></th>\n",
       "      <th>first_month_user</th>\n",
       "      <th>retained_user</th>\n",
       "    </tr>\n",
       "    <tr>\n",
       "      <th>phone</th>\n",
       "      <th></th>\n",
       "      <th></th>\n",
       "    </tr>\n",
       "  </thead>\n",
       "  <tbody>\n",
       "    <tr>\n",
       "      <th>Android</th>\n",
       "      <td>8324</td>\n",
       "      <td>2504</td>\n",
       "    </tr>\n",
       "    <tr>\n",
       "      <th>iPhone</th>\n",
       "      <td>19324</td>\n",
       "      <td>12539</td>\n",
       "    </tr>\n",
       "  </tbody>\n",
       "</table>\n",
       "</div>"
      ],
      "text/plain": [
       "         first_month_user  retained_user\n",
       "phone                                   \n",
       "Android              8324           2504\n",
       "iPhone              19324          12539"
      ]
     },
     "execution_count": 24,
     "metadata": {},
     "output_type": "execute_result"
    }
   ],
   "source": [
    "# Users by phone\n",
    "train_df.groupby('phone')[['first_month_user', 'retained_user']].sum()"
   ]
  },
  {
   "cell_type": "code",
   "execution_count": 26,
   "metadata": {},
   "outputs": [
    {
     "data": {
      "image/png": "[encoded data removed]",
      "text/plain": [
       "<Figure size 864x720 with 2 Axes>"
      ]
     },
     "metadata": {
      "needs_background": "light"
     },
     "output_type": "display_data"
    }
   ],
   "source": [
    "# Join other 2 labels into data\n",
    "train_df = combinexy(combinexy(train_df, y_alt), y_reg)\n",
    "\n",
    "# Feature correlation\n",
    "corr = train_df.corr()\n",
    "plt.figure(figsize=(12, 10))\n",
    "sns.heatmap(corr, annot=True)\n",
    "plt.title('Feature Correlation', fontsize=16)\n",
    "plt.xticks(rotation=45, ha='right');"
   ]
  },
  {
   "cell_type": "markdown",
   "metadata": {},
   "source": [
    "### Feature elimination"
   ]
  },
  {
   "cell_type": "markdown",
   "metadata": {},
   "source": [
    "##### As the goal is to use 1 month of data to predict user retention 6 months after a user signs up (i.e., 5 months in the future), `signup_date` and `last_trip_date` would not be useful so those features will be dropped."
   ]
  },
  {
   "cell_type": "code",
   "execution_count": 31,
   "metadata": {},
   "outputs": [
    {
     "data": {
      "text/html": [
       "<div>\n",
       "<style scoped>\n",
       "    .dataframe tbody tr th:only-of-type {\n",
       "        vertical-align: middle;\n",
       "    }\n",
       "\n",
       "    .dataframe tbody tr th {\n",
       "        vertical-align: top;\n",
       "    }\n",
       "\n",
       "    .dataframe thead th {\n",
       "        text-align: right;\n",
       "    }\n",
       "</style>\n",
       "<table border=\"1\" class=\"dataframe\">\n",
       "  <thead>\n",
       "    <tr style=\"text-align: right;\">\n",
       "      <th></th>\n",
       "      <th>city</th>\n",
       "      <th>trips_in_first_30_days</th>\n",
       "      <th>avg_rating_of_driver</th>\n",
       "      <th>avg_surge</th>\n",
       "      <th>phone</th>\n",
       "      <th>surge_pct</th>\n",
       "      <th>ultimate_black_user</th>\n",
       "      <th>weekday_pct</th>\n",
       "      <th>avg_dist</th>\n",
       "      <th>avg_rating_by_driver</th>\n",
       "      <th>first_month_user</th>\n",
       "      <th>days_as_user</th>\n",
       "    </tr>\n",
       "  </thead>\n",
       "  <tbody>\n",
       "    <tr>\n",
       "      <th>26245</th>\n",
       "      <td>Winterfell</td>\n",
       "      <td>2</td>\n",
       "      <td>4.3</td>\n",
       "      <td>1.02</td>\n",
       "      <td>iPhone</td>\n",
       "      <td>7.7</td>\n",
       "      <td>False</td>\n",
       "      <td>30.8</td>\n",
       "      <td>3.22</td>\n",
       "      <td>4.7</td>\n",
       "      <td>1</td>\n",
       "      <td>111</td>\n",
       "    </tr>\n",
       "    <tr>\n",
       "      <th>7179</th>\n",
       "      <td>Winterfell</td>\n",
       "      <td>5</td>\n",
       "      <td>3.5</td>\n",
       "      <td>1.04</td>\n",
       "      <td>iPhone</td>\n",
       "      <td>7.7</td>\n",
       "      <td>True</td>\n",
       "      <td>53.8</td>\n",
       "      <td>3.82</td>\n",
       "      <td>5.0</td>\n",
       "      <td>1</td>\n",
       "      <td>145</td>\n",
       "    </tr>\n",
       "    <tr>\n",
       "      <th>1951</th>\n",
       "      <td>Winterfell</td>\n",
       "      <td>2</td>\n",
       "      <td>3.5</td>\n",
       "      <td>1.00</td>\n",
       "      <td>iPhone</td>\n",
       "      <td>0.0</td>\n",
       "      <td>False</td>\n",
       "      <td>100.0</td>\n",
       "      <td>2.16</td>\n",
       "      <td>5.0</td>\n",
       "      <td>1</td>\n",
       "      <td>2</td>\n",
       "    </tr>\n",
       "    <tr>\n",
       "      <th>44384</th>\n",
       "      <td>King's Landing</td>\n",
       "      <td>2</td>\n",
       "      <td>5.0</td>\n",
       "      <td>1.00</td>\n",
       "      <td>iPhone</td>\n",
       "      <td>0.0</td>\n",
       "      <td>False</td>\n",
       "      <td>77.8</td>\n",
       "      <td>7.92</td>\n",
       "      <td>5.0</td>\n",
       "      <td>1</td>\n",
       "      <td>144</td>\n",
       "    </tr>\n",
       "    <tr>\n",
       "      <th>3836</th>\n",
       "      <td>Winterfell</td>\n",
       "      <td>3</td>\n",
       "      <td>5.0</td>\n",
       "      <td>1.00</td>\n",
       "      <td>iPhone</td>\n",
       "      <td>0.0</td>\n",
       "      <td>False</td>\n",
       "      <td>100.0</td>\n",
       "      <td>2.00</td>\n",
       "      <td>4.8</td>\n",
       "      <td>1</td>\n",
       "      <td>92</td>\n",
       "    </tr>\n",
       "  </tbody>\n",
       "</table>\n",
       "</div>"
      ],
      "text/plain": [
       "                 city  trips_in_first_30_days  avg_rating_of_driver  \\\n",
       "26245      Winterfell                       2                   4.3   \n",
       "7179       Winterfell                       5                   3.5   \n",
       "1951       Winterfell                       2                   3.5   \n",
       "44384  King's Landing                       2                   5.0   \n",
       "3836       Winterfell                       3                   5.0   \n",
       "\n",
       "       avg_surge   phone  surge_pct  ultimate_black_user  weekday_pct  \\\n",
       "26245       1.02  iPhone        7.7                False         30.8   \n",
       "7179        1.04  iPhone        7.7                 True         53.8   \n",
       "1951        1.00  iPhone        0.0                False        100.0   \n",
       "44384       1.00  iPhone        0.0                False         77.8   \n",
       "3836        1.00  iPhone        0.0                False        100.0   \n",
       "\n",
       "       avg_dist  avg_rating_by_driver  first_month_user  days_as_user  \n",
       "26245      3.22                   4.7                 1           111  \n",
       "7179       3.82                   5.0                 1           145  \n",
       "1951       2.16                   5.0                 1             2  \n",
       "44384      7.92                   5.0                 1           144  \n",
       "3836       2.00                   4.8                 1            92  "
      ]
     },
     "execution_count": 31,
     "metadata": {},
     "output_type": "execute_result"
    }
   ],
   "source": [
    "# Drop date-related features\n",
    "X_train.drop(['signup_date', 'last_trip_date'], axis=1, inplace=True)\n",
    "X_train.head()"
   ]
  },
  {
   "cell_type": "code",
   "execution_count": 32,
   "metadata": {},
   "outputs": [
    {
     "data": {
      "text/html": [
       "<div>\n",
       "<style scoped>\n",
       "    .dataframe tbody tr th:only-of-type {\n",
       "        vertical-align: middle;\n",
       "    }\n",
       "\n",
       "    .dataframe tbody tr th {\n",
       "        vertical-align: top;\n",
       "    }\n",
       "\n",
       "    .dataframe thead th {\n",
       "        text-align: right;\n",
       "    }\n",
       "</style>\n",
       "<table border=\"1\" class=\"dataframe\">\n",
       "  <thead>\n",
       "    <tr style=\"text-align: right;\">\n",
       "      <th></th>\n",
       "      <th>city</th>\n",
       "      <th>trips_in_first_30_days</th>\n",
       "      <th>avg_rating_of_driver</th>\n",
       "      <th>avg_surge</th>\n",
       "      <th>phone</th>\n",
       "      <th>surge_pct</th>\n",
       "      <th>ultimate_black_user</th>\n",
       "      <th>weekday_pct</th>\n",
       "      <th>avg_dist</th>\n",
       "      <th>avg_rating_by_driver</th>\n",
       "      <th>first_month_user</th>\n",
       "      <th>days_as_user</th>\n",
       "    </tr>\n",
       "  </thead>\n",
       "  <tbody>\n",
       "    <tr>\n",
       "      <th>26245</th>\n",
       "      <td>89.91</td>\n",
       "      <td>2</td>\n",
       "      <td>4.3</td>\n",
       "      <td>1.02</td>\n",
       "      <td>100.41</td>\n",
       "      <td>7.7</td>\n",
       "      <td>False</td>\n",
       "      <td>30.8</td>\n",
       "      <td>3.22</td>\n",
       "      <td>4.7</td>\n",
       "      <td>1</td>\n",
       "      <td>111</td>\n",
       "    </tr>\n",
       "    <tr>\n",
       "      <th>7179</th>\n",
       "      <td>89.91</td>\n",
       "      <td>5</td>\n",
       "      <td>3.5</td>\n",
       "      <td>1.04</td>\n",
       "      <td>100.41</td>\n",
       "      <td>7.7</td>\n",
       "      <td>True</td>\n",
       "      <td>53.8</td>\n",
       "      <td>3.82</td>\n",
       "      <td>5.0</td>\n",
       "      <td>1</td>\n",
       "      <td>145</td>\n",
       "    </tr>\n",
       "    <tr>\n",
       "      <th>1951</th>\n",
       "      <td>89.91</td>\n",
       "      <td>2</td>\n",
       "      <td>3.5</td>\n",
       "      <td>1.00</td>\n",
       "      <td>100.41</td>\n",
       "      <td>0.0</td>\n",
       "      <td>False</td>\n",
       "      <td>100.0</td>\n",
       "      <td>2.16</td>\n",
       "      <td>5.0</td>\n",
       "      <td>1</td>\n",
       "      <td>2</td>\n",
       "    </tr>\n",
       "    <tr>\n",
       "      <th>44384</th>\n",
       "      <td>116.79</td>\n",
       "      <td>2</td>\n",
       "      <td>5.0</td>\n",
       "      <td>1.00</td>\n",
       "      <td>100.41</td>\n",
       "      <td>0.0</td>\n",
       "      <td>False</td>\n",
       "      <td>77.8</td>\n",
       "      <td>7.92</td>\n",
       "      <td>5.0</td>\n",
       "      <td>1</td>\n",
       "      <td>144</td>\n",
       "    </tr>\n",
       "    <tr>\n",
       "      <th>3836</th>\n",
       "      <td>89.91</td>\n",
       "      <td>3</td>\n",
       "      <td>5.0</td>\n",
       "      <td>1.00</td>\n",
       "      <td>100.41</td>\n",
       "      <td>0.0</td>\n",
       "      <td>False</td>\n",
       "      <td>100.0</td>\n",
       "      <td>2.00</td>\n",
       "      <td>4.8</td>\n",
       "      <td>1</td>\n",
       "      <td>92</td>\n",
       "    </tr>\n",
       "  </tbody>\n",
       "</table>\n",
       "</div>"
      ],
      "text/plain": [
       "         city  trips_in_first_30_days  avg_rating_of_driver  avg_surge  \\\n",
       "26245   89.91                       2                   4.3       1.02   \n",
       "7179    89.91                       5                   3.5       1.04   \n",
       "1951    89.91                       2                   3.5       1.00   \n",
       "44384  116.79                       2                   5.0       1.00   \n",
       "3836    89.91                       3                   5.0       1.00   \n",
       "\n",
       "        phone  surge_pct  ultimate_black_user  weekday_pct  avg_dist  \\\n",
       "26245  100.41        7.7                False         30.8      3.22   \n",
       "7179   100.41        7.7                 True         53.8      3.82   \n",
       "1951   100.41        0.0                False        100.0      2.16   \n",
       "44384  100.41        0.0                False         77.8      7.92   \n",
       "3836   100.41        0.0                False        100.0      2.00   \n",
       "\n",
       "       avg_rating_by_driver  first_month_user  days_as_user  \n",
       "26245                   4.7                 1           111  \n",
       "7179                    5.0                 1           145  \n",
       "1951                    5.0                 1             2  \n",
       "44384                   5.0                 1           144  \n",
       "3836                    4.8                 1            92  "
      ]
     },
     "execution_count": 32,
     "metadata": {},
     "output_type": "execute_result"
    }
   ],
   "source": [
    "# Map categorical features to numerical values\n",
    "city_dict = X_train.groupby('city')['days_as_user'].mean().round(2).to_dict()\n",
    "phone_dict = X_train.groupby('phone')['days_as_user'].mean().round(2).to_dict()\n",
    "\n",
    "# Encode the categorical variables in the training set\n",
    "X_train['city'] = X_train['city'].map(city_dict)\n",
    "X_train['phone'] = X_train['phone'].map(phone_dict)\n",
    "X_train.head()"
   ]
  },
  {
   "cell_type": "code",
   "execution_count": 32,
   "metadata": {},
   "outputs": [
    {
     "data": {
      "text/html": [
       "<div>\n",
       "<style scoped>\n",
       "    .dataframe tbody tr th:only-of-type {\n",
       "        vertical-align: middle;\n",
       "    }\n",
       "\n",
       "    .dataframe tbody tr th {\n",
       "        vertical-align: top;\n",
       "    }\n",
       "\n",
       "    .dataframe thead th {\n",
       "        text-align: right;\n",
       "    }\n",
       "</style>\n",
       "<table border=\"1\" class=\"dataframe\">\n",
       "  <thead>\n",
       "    <tr style=\"text-align: right;\">\n",
       "      <th></th>\n",
       "      <th>city</th>\n",
       "      <th>trips_in_first_30_days</th>\n",
       "      <th>avg_rating_of_driver</th>\n",
       "      <th>avg_surge</th>\n",
       "      <th>phone</th>\n",
       "      <th>surge_pct</th>\n",
       "      <th>ultimate_black_user</th>\n",
       "      <th>weekday_pct</th>\n",
       "      <th>avg_dist</th>\n",
       "      <th>avg_rating_by_driver</th>\n",
       "      <th>days_as_user</th>\n",
       "    </tr>\n",
       "  </thead>\n",
       "  <tbody>\n",
       "    <tr>\n",
       "      <th>6596</th>\n",
       "      <td>82.63</td>\n",
       "      <td>0</td>\n",
       "      <td>4.5</td>\n",
       "      <td>1.00</td>\n",
       "      <td>75.66</td>\n",
       "      <td>0.0</td>\n",
       "      <td>1</td>\n",
       "      <td>100.0</td>\n",
       "      <td>5.04</td>\n",
       "      <td>4.7</td>\n",
       "      <td>58</td>\n",
       "    </tr>\n",
       "    <tr>\n",
       "      <th>25428</th>\n",
       "      <td>82.63</td>\n",
       "      <td>0</td>\n",
       "      <td>5.0</td>\n",
       "      <td>1.00</td>\n",
       "      <td>100.17</td>\n",
       "      <td>0.0</td>\n",
       "      <td>0</td>\n",
       "      <td>0.0</td>\n",
       "      <td>4.25</td>\n",
       "      <td>4.8</td>\n",
       "      <td>127</td>\n",
       "    </tr>\n",
       "    <tr>\n",
       "      <th>25780</th>\n",
       "      <td>89.82</td>\n",
       "      <td>4</td>\n",
       "      <td>4.9</td>\n",
       "      <td>1.12</td>\n",
       "      <td>75.66</td>\n",
       "      <td>14.3</td>\n",
       "      <td>0</td>\n",
       "      <td>50.0</td>\n",
       "      <td>3.69</td>\n",
       "      <td>4.8</td>\n",
       "      <td>174</td>\n",
       "    </tr>\n",
       "    <tr>\n",
       "      <th>48459</th>\n",
       "      <td>89.82</td>\n",
       "      <td>9</td>\n",
       "      <td>4.0</td>\n",
       "      <td>1.00</td>\n",
       "      <td>75.66</td>\n",
       "      <td>0.0</td>\n",
       "      <td>0</td>\n",
       "      <td>23.1</td>\n",
       "      <td>1.88</td>\n",
       "      <td>4.8</td>\n",
       "      <td>84</td>\n",
       "    </tr>\n",
       "    <tr>\n",
       "      <th>45942</th>\n",
       "      <td>116.47</td>\n",
       "      <td>1</td>\n",
       "      <td>4.0</td>\n",
       "      <td>1.00</td>\n",
       "      <td>75.66</td>\n",
       "      <td>0.0</td>\n",
       "      <td>1</td>\n",
       "      <td>100.0</td>\n",
       "      <td>3.85</td>\n",
       "      <td>5.0</td>\n",
       "      <td>5</td>\n",
       "    </tr>\n",
       "  </tbody>\n",
       "</table>\n",
       "</div>"
      ],
      "text/plain": [
       "         city  trips_in_first_30_days  avg_rating_of_driver  avg_surge  \\\n",
       "6596    82.63                       0                   4.5       1.00   \n",
       "25428   82.63                       0                   5.0       1.00   \n",
       "25780   89.82                       4                   4.9       1.12   \n",
       "48459   89.82                       9                   4.0       1.00   \n",
       "45942  116.47                       1                   4.0       1.00   \n",
       "\n",
       "        phone  surge_pct  ultimate_black_user  weekday_pct  avg_dist  \\\n",
       "6596    75.66        0.0                    1        100.0      5.04   \n",
       "25428  100.17        0.0                    0          0.0      4.25   \n",
       "25780   75.66       14.3                    0         50.0      3.69   \n",
       "48459   75.66        0.0                    0         23.1      1.88   \n",
       "45942   75.66        0.0                    1        100.0      3.85   \n",
       "\n",
       "       avg_rating_by_driver  days_as_user  \n",
       "6596                    4.7            58  \n",
       "25428                   4.8           127  \n",
       "25780                   4.8           174  \n",
       "48459                   4.8            84  \n",
       "45942                   5.0             5  "
      ]
     },
     "execution_count": 32,
     "metadata": {},
     "output_type": "execute_result"
    }
   ],
   "source": [
    "# Encode the categorical variables in the test set using the same mapping\n",
    "X_test['city'] = X_test['city'].map(city_dict)\n",
    "X_test['phone'] = X_test['phone'].map(phone_dict)\n",
    "X_test.head()"
   ]
  },
  {
   "cell_type": "markdown",
   "metadata": {},
   "source": [
    "##### The `days_as_user` variable was created to be the target in the case of regression, but kept among the feature variables in order to encoding the 2 categorical variables `city` and `phone` with the mean of each label. Now it can be separated from the feature variables."
   ]
  },
  {
   "cell_type": "code",
   "execution_count": 33,
   "metadata": {},
   "outputs": [
    {
     "data": {
      "text/plain": [
       "((39993, 10), (39993,))"
      ]
     },
     "execution_count": 33,
     "metadata": {},
     "output_type": "execute_result"
    }
   ],
   "source": [
    "y_train_reg = X_train['days_as_user']\n",
    "X_train.drop('days_as_user', axis=1, inplace=True)\n",
    "X_train.shape, y_train.shape"
   ]
  },
  {
   "cell_type": "code",
   "execution_count": 34,
   "metadata": {},
   "outputs": [
    {
     "data": {
      "text/plain": [
       "city                       151.899132\n",
       "trips_in_first_30_days      14.600382\n",
       "avg_rating_of_driver         0.321676\n",
       "avg_surge                    0.048847\n",
       "phone                      125.912195\n",
       "surge_pct                  398.524581\n",
       "ultimate_black_user          0.235447\n",
       "weekday_pct               1372.443042\n",
       "avg_dist                    32.894029\n",
       "avg_rating_by_driver         0.199187\n",
       "dtype: float64"
      ]
     },
     "execution_count": 34,
     "metadata": {},
     "output_type": "execute_result"
    }
   ],
   "source": [
    "# Check for constant features\n",
    "X_train.var()"
   ]
  },
  {
   "cell_type": "code",
   "execution_count": 35,
   "metadata": {},
   "outputs": [
    {
     "data": {
      "image/png": "[encoded data removed]",
      "text/plain": [
       "<Figure size 720x576 with 2 Axes>"
      ]
     },
     "metadata": {
      "needs_background": "light"
     },
     "output_type": "display_data"
    }
   ],
   "source": [
    "# Check for feature correlation\n",
    "plt.figure(figsize=(10, 8))\n",
    "sns.heatmap(X_train.corr(), annot=True, cmap='coolwarm')\n",
    "plt.xticks(rotation=45, ha='right');"
   ]
  },
  {
   "cell_type": "markdown",
   "metadata": {},
   "source": [
    "##### The 2 surge features are highly correlated so it would be redundant to have both. With a higher variance in its values, `surge_pct` might be able to provide more information so I am dropping `avg_surge`."
   ]
  },
  {
   "cell_type": "code",
   "execution_count": 36,
   "metadata": {},
   "outputs": [
    {
     "data": {
      "text/plain": [
       "(39993, 9)"
      ]
     },
     "execution_count": 36,
     "metadata": {},
     "output_type": "execute_result"
    }
   ],
   "source": [
    "X_train.drop('avg_surge', axis=1, inplace=True)\n",
    "X_train.shape"
   ]
  },
  {
   "cell_type": "code",
   "execution_count": 37,
   "metadata": {},
   "outputs": [
    {
     "name": "stdout",
     "output_type": "stream",
     "text": [
      "Test: (9999, 9) (9999,)\n"
     ]
    }
   ],
   "source": [
    "# Apply the same changes to the test set\n",
    "y_test_reg = X_test['days_as_user']\n",
    "X_test.drop(['avg_surge', 'days_as_user'], axis=1, inplace=True)\n",
    "print('Test:', X_test.shape, y_test_reg.shape)"
   ]
  },
  {
   "cell_type": "markdown",
   "metadata": {},
   "source": [
    "### Modeling"
   ]
  },
  {
   "cell_type": "code",
   "execution_count": 38,
   "metadata": {},
   "outputs": [
    {
     "data": {
      "text/html": [
       "<div>\n",
       "<style scoped>\n",
       "    .dataframe tbody tr th:only-of-type {\n",
       "        vertical-align: middle;\n",
       "    }\n",
       "\n",
       "    .dataframe tbody tr th {\n",
       "        vertical-align: top;\n",
       "    }\n",
       "\n",
       "    .dataframe thead th {\n",
       "        text-align: right;\n",
       "    }\n",
       "</style>\n",
       "<table border=\"1\" class=\"dataframe\">\n",
       "  <thead>\n",
       "    <tr style=\"text-align: right;\">\n",
       "      <th></th>\n",
       "      <th>city</th>\n",
       "      <th>trips_in_first_30_days</th>\n",
       "      <th>avg_rating_of_driver</th>\n",
       "      <th>phone</th>\n",
       "      <th>surge_pct</th>\n",
       "      <th>ultimate_black_user</th>\n",
       "      <th>weekday_pct</th>\n",
       "      <th>avg_dist</th>\n",
       "      <th>avg_rating_by_driver</th>\n",
       "    </tr>\n",
       "  </thead>\n",
       "  <tbody>\n",
       "    <tr>\n",
       "      <th>0</th>\n",
       "      <td>1.916941</td>\n",
       "      <td>-0.337327</td>\n",
       "      <td>-1.057792</td>\n",
       "      <td>-1.531253</td>\n",
       "      <td>-0.444270</td>\n",
       "      <td>1.279120</td>\n",
       "      <td>-1.644569</td>\n",
       "      <td>0.520628</td>\n",
       "      <td>0.498437</td>\n",
       "    </tr>\n",
       "    <tr>\n",
       "      <th>1</th>\n",
       "      <td>-0.828791</td>\n",
       "      <td>0.186097</td>\n",
       "      <td>0.705386</td>\n",
       "      <td>-1.531253</td>\n",
       "      <td>-0.444270</td>\n",
       "      <td>1.279120</td>\n",
       "      <td>1.054775</td>\n",
       "      <td>-0.497634</td>\n",
       "      <td>0.498437</td>\n",
       "    </tr>\n",
       "    <tr>\n",
       "      <th>2</th>\n",
       "      <td>1.916941</td>\n",
       "      <td>0.447808</td>\n",
       "      <td>0.705386</td>\n",
       "      <td>0.653060</td>\n",
       "      <td>-0.444270</td>\n",
       "      <td>-0.781787</td>\n",
       "      <td>0.668769</td>\n",
       "      <td>4.497780</td>\n",
       "      <td>0.498437</td>\n",
       "    </tr>\n",
       "    <tr>\n",
       "      <th>3</th>\n",
       "      <td>-0.245404</td>\n",
       "      <td>0.709520</td>\n",
       "      <td>-1.057792</td>\n",
       "      <td>0.653060</td>\n",
       "      <td>1.559454</td>\n",
       "      <td>-0.781787</td>\n",
       "      <td>-0.024963</td>\n",
       "      <td>-0.527275</td>\n",
       "      <td>0.050306</td>\n",
       "    </tr>\n",
       "    <tr>\n",
       "      <th>4</th>\n",
       "      <td>-0.245404</td>\n",
       "      <td>-0.075615</td>\n",
       "      <td>0.705386</td>\n",
       "      <td>0.653060</td>\n",
       "      <td>-0.444270</td>\n",
       "      <td>-0.781787</td>\n",
       "      <td>0.155893</td>\n",
       "      <td>0.450884</td>\n",
       "      <td>-1.070021</td>\n",
       "    </tr>\n",
       "  </tbody>\n",
       "</table>\n",
       "</div>"
      ],
      "text/plain": [
       "       city  trips_in_first_30_days  avg_rating_of_driver     phone  \\\n",
       "0  1.916941               -0.337327             -1.057792 -1.531253   \n",
       "1 -0.828791                0.186097              0.705386 -1.531253   \n",
       "2  1.916941                0.447808              0.705386  0.653060   \n",
       "3 -0.245404                0.709520             -1.057792  0.653060   \n",
       "4 -0.245404               -0.075615              0.705386  0.653060   \n",
       "\n",
       "   surge_pct  ultimate_black_user  weekday_pct  avg_dist  avg_rating_by_driver  \n",
       "0  -0.444270             1.279120    -1.644569  0.520628              0.498437  \n",
       "1  -0.444270             1.279120     1.054775 -0.497634              0.498437  \n",
       "2  -0.444270            -0.781787     0.668769  4.497780              0.498437  \n",
       "3   1.559454            -0.781787    -0.024963 -0.527275              0.050306  \n",
       "4  -0.444270            -0.781787     0.155893  0.450884             -1.070021  "
      ]
     },
     "execution_count": 38,
     "metadata": {},
     "output_type": "execute_result"
    }
   ],
   "source": [
    "# Scale the features\n",
    "scaler = StandardScaler()\n",
    "scaler.fit(X_train)\n",
    "X_train_scaled = pd.DataFrame(scaler.transform(X_train), columns=X_train.columns)\n",
    "X_test_scaled = pd.DataFrame(scaler.transform(X_test), columns=X_test.columns)\n",
    "X_train_scaled.head()"
   ]
  },
  {
   "cell_type": "code",
   "execution_count": 39,
   "metadata": {},
   "outputs": [
    {
     "data": {
      "image/png": "[encoded data removed]",
      "text/plain": [
       "<Figure size 864x288 with 2 Axes>"
      ]
     },
     "metadata": {
      "needs_background": "light"
     },
     "output_type": "display_data"
    }
   ],
   "source": [
    "# Check feature correlation with the 2 targets\n",
    "X_train_scaled['clf_target'] = y_train.reset_index().retained_user\n",
    "X_train_scaled['reg_target'] = y_train_reg.reset_index().days_as_user\n",
    "\n",
    "plt.figure(figsize=(12, 4))\n",
    "sns.heatmap(X_train_scaled.corr().iloc[-2:, :-2], annot=True, cmap=sns.light_palette((210, 90, 60), input=\"husl\"))\n",
    "plt.title('Correlation with target', fontsize=16)\n",
    "plt.ylabel('Target')\n",
    "plt.xlabel('Features')\n",
    "plt.yticks(rotation=0)\n",
    "plt.xticks(rotation=45, ha='right')\n",
    "\n",
    "X_train_scaled.drop(['clf_target', 'reg_target'], axis=1, inplace=True)"
   ]
  },
  {
   "cell_type": "markdown",
   "metadata": {},
   "source": [
    "##### Features with the strongest linear relationship with target: `city`, `trips_in_first_30_days`, `phone`, and `ultimate_black_user`"
   ]
  },
  {
   "cell_type": "code",
   "execution_count": 40,
   "metadata": {},
   "outputs": [
    {
     "data": {
      "image/png": "[encoded data removed]",
      "text/plain": [
       "<Figure size 1296x288 with 3 Axes>"
      ]
     },
     "metadata": {
      "needs_background": "light"
     },
     "output_type": "display_data"
    }
   ],
   "source": [
    "# Inspect targets\n",
    "fig2, ax2 = plt.subplots(1, 3, figsize=(18, 4))\n",
    "sns.countplot(y_train, ax=ax2[0])\n",
    "sns.distplot(y_train_reg, kde=False, ax=ax2[1])\n",
    "sns.distplot(np.log1p(y_train_reg), kde=False, ax=ax2[2])\n",
    "fig2.suptitle('Distribution of targets', fontsize=16)\n",
    "ax2[0].set_ylabel('Count')\n",
    "ax2[0].set_xlabel('classification target')\n",
    "ax2[1].set_xlabel('regression target')\n",
    "ax2[2].set_xlabel('regression target (log)');"
   ]
  },
  {
   "cell_type": "markdown",
   "metadata": {},
   "source": [
    "##### Classification target - slight class imbalance of 1:3, may not be a problem\n",
    "##### Regression target - left-skewed with a peak at 0, log transformation unable to make it normally distributed"
   ]
  },
  {
   "cell_type": "markdown",
   "metadata": {},
   "source": [
    "### Logistic Regression"
   ]
  },
  {
   "cell_type": "code",
   "execution_count": 41,
   "metadata": {},
   "outputs": [
    {
     "name": "stdout",
     "output_type": "stream",
     "text": [
      "Train\n",
      "Score: 0.7678843797664592\n",
      "ROC AUC: 0.5701462382120047\n",
      "Confusion matrix:\n",
      " [[0.72295152 0.03333083]\n",
      " [0.19878479 0.04493286]]\n",
      "\n",
      "Test\n",
      "Score: 0.7690769076907691\n",
      "ROC AUC: 0.5707077316354442\n",
      "Confusion matrix:\n",
      " [[0.72457246 0.03030303]\n",
      " [0.20062006 0.04450445]]\n"
     ]
    }
   ],
   "source": [
    "# Logistic regression - 9 features\n",
    "logreg = LogisticRegression(max_iter=1e4)\n",
    "logreg.fit(X_train, y_train)\n",
    "\n",
    "print('Train')\n",
    "print('Score:', logreg.score(X_train, y_train))\n",
    "print('ROC AUC:', roc_auc_score(y_train, logreg.predict(X_train)))\n",
    "print('Confusion matrix:\\n', confusion_matrix(y_train, logreg.predict(X_train), normalize='all'))\n",
    "\n",
    "print('\\nTest')\n",
    "print('Score:', logreg.score(X_test, y_test))\n",
    "print('ROC AUC:', roc_auc_score(y_test, logreg.predict(X_test)))\n",
    "print('Confusion matrix:\\n', confusion_matrix(y_test, logreg.predict(X_test), normalize='all'))"
   ]
  },
  {
   "cell_type": "code",
   "execution_count": 42,
   "metadata": {},
   "outputs": [
    {
     "data": {
      "text/html": [
       "<div>\n",
       "<style scoped>\n",
       "    .dataframe tbody tr th:only-of-type {\n",
       "        vertical-align: middle;\n",
       "    }\n",
       "\n",
       "    .dataframe tbody tr th {\n",
       "        vertical-align: top;\n",
       "    }\n",
       "\n",
       "    .dataframe thead th {\n",
       "        text-align: right;\n",
       "    }\n",
       "</style>\n",
       "<table border=\"1\" class=\"dataframe\">\n",
       "  <thead>\n",
       "    <tr style=\"text-align: right;\">\n",
       "      <th></th>\n",
       "      <th>feature</th>\n",
       "      <th>coefficient</th>\n",
       "    </tr>\n",
       "  </thead>\n",
       "  <tbody>\n",
       "    <tr>\n",
       "      <th>5</th>\n",
       "      <td>ultimate_black_user</td>\n",
       "      <td>0.681451</td>\n",
       "    </tr>\n",
       "    <tr>\n",
       "      <th>1</th>\n",
       "      <td>trips_in_first_30_days</td>\n",
       "      <td>0.0963701</td>\n",
       "    </tr>\n",
       "    <tr>\n",
       "      <th>3</th>\n",
       "      <td>phone</td>\n",
       "      <td>0.0386437</td>\n",
       "    </tr>\n",
       "    <tr>\n",
       "      <th>0</th>\n",
       "      <td>city</td>\n",
       "      <td>0.0332738</td>\n",
       "    </tr>\n",
       "    <tr>\n",
       "      <th>4</th>\n",
       "      <td>surge_pct</td>\n",
       "      <td>0.00246575</td>\n",
       "    </tr>\n",
       "    <tr>\n",
       "      <th>6</th>\n",
       "      <td>weekday_pct</td>\n",
       "      <td>-0.000128146</td>\n",
       "    </tr>\n",
       "    <tr>\n",
       "      <th>7</th>\n",
       "      <td>avg_dist</td>\n",
       "      <td>-0.0391387</td>\n",
       "    </tr>\n",
       "    <tr>\n",
       "      <th>2</th>\n",
       "      <td>avg_rating_of_driver</td>\n",
       "      <td>-0.0485882</td>\n",
       "    </tr>\n",
       "    <tr>\n",
       "      <th>8</th>\n",
       "      <td>avg_rating_by_driver</td>\n",
       "      <td>-0.144631</td>\n",
       "    </tr>\n",
       "  </tbody>\n",
       "</table>\n",
       "</div>"
      ],
      "text/plain": [
       "                  feature  coefficient\n",
       "5     ultimate_black_user     0.681451\n",
       "1  trips_in_first_30_days    0.0963701\n",
       "3                   phone    0.0386437\n",
       "0                    city    0.0332738\n",
       "4               surge_pct   0.00246575\n",
       "6             weekday_pct -0.000128146\n",
       "7                avg_dist   -0.0391387\n",
       "2    avg_rating_of_driver   -0.0485882\n",
       "8    avg_rating_by_driver    -0.144631"
      ]
     },
     "execution_count": 42,
     "metadata": {},
     "output_type": "execute_result"
    }
   ],
   "source": [
    "# Feature coefficients\n",
    "logreg_coefs = pd.DataFrame(np.array([X_train_scaled.columns.values, logreg.coef_[0]]).T, columns=['feature', 'coefficient']).sort_values('coefficient', ascending=False)\n",
    "logreg_coefs"
   ]
  },
  {
   "cell_type": "markdown",
   "metadata": {},
   "source": [
    "##### There are 6 features with a coefficient magnitude of less than 0.05, which means they are adding to the complexity of the model without providing much value. If the logistic regression model can achieve similar performance without these features, then there is really no need for them in using logistic regression."
   ]
  },
  {
   "cell_type": "code",
   "execution_count": 43,
   "metadata": {},
   "outputs": [
    {
     "name": "stdout",
     "output_type": "stream",
     "text": [
      "Train\n",
      "Score: 0.762608456479884\n",
      "ROC AUC: 0.5301878805348416\n",
      "Confusion matrix:\n",
      " [[0.74390518 0.01237717]\n",
      " [0.22501438 0.01870327]]\n",
      "\n",
      "Test\n",
      "Score: 0.761976197619762\n",
      "ROC AUC: 0.5283972052547904\n",
      "Confusion matrix:\n",
      " [[0.74477448 0.01010101]\n",
      " [0.22792279 0.01720172]]\n"
     ]
    }
   ],
   "source": [
    "# Logistic regression - 3 features\n",
    "to_drop = ['weekday_pct', 'surge_pct', 'city', 'avg_dist', 'phone', 'avg_rating_of_driver']\n",
    "logreg3 = LogisticRegression(max_iter=1e4)\n",
    "logreg3.fit(X_train.drop(to_drop, axis=1), y_train)\n",
    "\n",
    "print('Train')\n",
    "print('Score:', logreg3.score(X_train.drop(to_drop, axis=1), y_train))\n",
    "print('ROC AUC:', roc_auc_score(y_train, logreg3.predict(X_train.drop(to_drop, axis=1))))\n",
    "print('Confusion matrix:\\n', confusion_matrix(y_train, logreg3.predict(X_train.drop(to_drop, axis=1)), normalize='all'))\n",
    "\n",
    "print('\\nTest')\n",
    "print('Score:', logreg3.score(X_test.drop(to_drop, axis=1), y_test))\n",
    "print('ROC AUC:', roc_auc_score(y_test, logreg3.predict(X_test.drop(to_drop, axis=1))))\n",
    "print('Confusion matrix:\\n', confusion_matrix(y_test, logreg3.predict(X_test.drop(to_drop, axis=1)), normalize='all'))"
   ]
  },
  {
   "cell_type": "markdown",
   "metadata": {},
   "source": [
    "##### Logistic regression summary:\n",
    "##### - There was only a small drop in accuracy when training with 3 features vs. training with 9\n",
    "##### - Most of the predictive power lies in the 3 features `ultimate_black_user`, `avg_rating_by_driver`, and `trips_in_first_30_days`\n",
    "##### - Most of the misclassifications are false negatives (i.e. the user was active in his or her 6th month, but classified to be inactive)"
   ]
  },
  {
   "cell_type": "markdown",
   "metadata": {},
   "source": [
    "### Decision Tree"
   ]
  },
  {
   "cell_type": "code",
   "execution_count": 44,
   "metadata": {},
   "outputs": [
    {
     "name": "stdout",
     "output_type": "stream",
     "text": [
      "0.8013498615338296\n",
      "{'max_depth': 12, 'min_samples_split': 320}\n"
     ]
    }
   ],
   "source": [
    "# Decision tree - grid search\n",
    "tree = DecisionTreeClassifier(random_state=0)\n",
    "params = {'max_depth': range(4, 24, 4), 'min_samples_split': range(20, 440, 20)}\n",
    "gs = GridSearchCV(tree, params, scoring='roc_auc', cv=5)\n",
    "gs.fit(X_train, y_train)\n",
    "print(gs.best_score_)\n",
    "print(gs.best_params_)"
   ]
  },
  {
   "cell_type": "code",
   "execution_count": 45,
   "metadata": {},
   "outputs": [
    {
     "name": "stdout",
     "output_type": "stream",
     "text": [
      "Train\n",
      "Score: 0.7965143900182532\n",
      "ROC AUC: 0.6630927156524461\n",
      "Confusion matrix:\n",
      " [[0.69834721 0.05793514]\n",
      " [0.14555047 0.09816718]]\n",
      "\n",
      "Test\n",
      "Score: 0.7967796779677968\n",
      "ROC AUC: 0.6634450167641902\n",
      "Confusion matrix:\n",
      " [[0.69826983 0.05660566]\n",
      " [0.14661466 0.09850985]]\n"
     ]
    }
   ],
   "source": [
    "# Decision tree - 9 features\n",
    "tree = DecisionTreeClassifier(max_depth=8, min_samples_split=220, random_state=0)\n",
    "tree.fit(X_train, y_train)\n",
    "\n",
    "print('Train')\n",
    "print('Score:', tree.score(X_train, y_train))\n",
    "print('ROC AUC:', roc_auc_score(y_train, tree.predict(X_train)))\n",
    "print('Confusion matrix:\\n', confusion_matrix(y_train, tree.predict(X_train), normalize='all'))\n",
    "\n",
    "print('\\nTest')\n",
    "print('Score:', tree.score(X_test, y_test))\n",
    "print('ROC AUC:', roc_auc_score(y_test, tree.predict(X_test)))\n",
    "print('Confusion matrix:\\n', confusion_matrix(y_test, tree.predict(X_test), normalize='all'))"
   ]
  },
  {
   "cell_type": "code",
   "execution_count": 46,
   "metadata": {},
   "outputs": [
    {
     "data": {
      "text/html": [
       "<div>\n",
       "<style scoped>\n",
       "    .dataframe tbody tr th:only-of-type {\n",
       "        vertical-align: middle;\n",
       "    }\n",
       "\n",
       "    .dataframe tbody tr th {\n",
       "        vertical-align: top;\n",
       "    }\n",
       "\n",
       "    .dataframe thead th {\n",
       "        text-align: right;\n",
       "    }\n",
       "</style>\n",
       "<table border=\"1\" class=\"dataframe\">\n",
       "  <thead>\n",
       "    <tr style=\"text-align: right;\">\n",
       "      <th></th>\n",
       "      <th>feature</th>\n",
       "      <th>coefficient</th>\n",
       "    </tr>\n",
       "  </thead>\n",
       "  <tbody>\n",
       "    <tr>\n",
       "      <th>8</th>\n",
       "      <td>avg_rating_by_driver</td>\n",
       "      <td>0.354745</td>\n",
       "    </tr>\n",
       "    <tr>\n",
       "      <th>4</th>\n",
       "      <td>surge_pct</td>\n",
       "      <td>0.266048</td>\n",
       "    </tr>\n",
       "    <tr>\n",
       "      <th>0</th>\n",
       "      <td>city</td>\n",
       "      <td>0.144092</td>\n",
       "    </tr>\n",
       "    <tr>\n",
       "      <th>3</th>\n",
       "      <td>phone</td>\n",
       "      <td>0.0786588</td>\n",
       "    </tr>\n",
       "    <tr>\n",
       "      <th>6</th>\n",
       "      <td>weekday_pct</td>\n",
       "      <td>0.0685235</td>\n",
       "    </tr>\n",
       "    <tr>\n",
       "      <th>5</th>\n",
       "      <td>ultimate_black_user</td>\n",
       "      <td>0.0426211</td>\n",
       "    </tr>\n",
       "    <tr>\n",
       "      <th>1</th>\n",
       "      <td>trips_in_first_30_days</td>\n",
       "      <td>0.0267832</td>\n",
       "    </tr>\n",
       "    <tr>\n",
       "      <th>7</th>\n",
       "      <td>avg_dist</td>\n",
       "      <td>0.015455</td>\n",
       "    </tr>\n",
       "    <tr>\n",
       "      <th>2</th>\n",
       "      <td>avg_rating_of_driver</td>\n",
       "      <td>0.00307394</td>\n",
       "    </tr>\n",
       "  </tbody>\n",
       "</table>\n",
       "</div>"
      ],
      "text/plain": [
       "                  feature coefficient\n",
       "8    avg_rating_by_driver    0.354745\n",
       "4               surge_pct    0.266048\n",
       "0                    city    0.144092\n",
       "3                   phone   0.0786588\n",
       "6             weekday_pct   0.0685235\n",
       "5     ultimate_black_user   0.0426211\n",
       "1  trips_in_first_30_days   0.0267832\n",
       "7                avg_dist    0.015455\n",
       "2    avg_rating_of_driver  0.00307394"
      ]
     },
     "execution_count": 46,
     "metadata": {},
     "output_type": "execute_result"
    }
   ],
   "source": [
    "# Feature Coefficients\n",
    "tree_coefs = pd.DataFrame(np.array([X_train.columns.values, tree.feature_importances_]).T, columns=['feature', 'coefficient']).sort_values('coefficient', ascending=False)\n",
    "tree_coefs"
   ]
  },
  {
   "cell_type": "code",
   "execution_count": 47,
   "metadata": {},
   "outputs": [
    {
     "name": "stdout",
     "output_type": "stream",
     "text": [
      "Train\n",
      "Score: 0.7895381691796064\n",
      "ROC AUC: 0.63567356479576\n",
      "Confusion matrix:\n",
      " [[0.70777386 0.04850849]\n",
      " [0.16195334 0.08176431]]\n",
      "\n",
      "Test\n",
      "Score: 0.7931793179317932\n",
      "ROC AUC: 0.6408101978427415\n",
      "Confusion matrix:\n",
      " [[0.70937094 0.04550455]\n",
      " [0.16131613 0.08380838]]\n"
     ]
    }
   ],
   "source": [
    "# Decision tree - 3 features\n",
    "to_drop = ['avg_rating_of_driver', 'avg_dist', 'trips_in_first_30_days', 'ultimate_black_user', 'phone', 'weekday_pct']\n",
    "tree3 = DecisionTreeClassifier(max_depth=8, min_samples_split=220, random_state=0)\n",
    "tree3.fit(X_train.drop(to_drop, axis=1), y_train)\n",
    "\n",
    "print('Train')\n",
    "print('Score:', tree3.score(X_train.drop(to_drop, axis=1), y_train))\n",
    "print('ROC AUC:', roc_auc_score(y_train, tree3.predict(X_train.drop(to_drop, axis=1))))\n",
    "print('Confusion matrix:\\n', confusion_matrix(y_train, tree3.predict(X_train.drop(to_drop, axis=1)), normalize='all'))\n",
    "\n",
    "print('\\nTest')\n",
    "print('Score:', tree3.score(X_test.drop(to_drop, axis=1), y_test))\n",
    "print('ROC AUC:', roc_auc_score(y_test, tree3.predict(X_test.drop(to_drop, axis=1))))\n",
    "print('Confusion matrix:\\n', confusion_matrix(y_test, tree3.predict(X_test.drop(to_drop, axis=1)), normalize='all'))"
   ]
  },
  {
   "cell_type": "markdown",
   "metadata": {},
   "source": [
    "##### Decision tree summary:\n",
    "##### - The 3 features with the highest importance coefficients (`avg_rating_by_driver`, `surge_pct`, `city`) were used to retrain the model and there was only a small drop in accuracy\n",
    "##### - Both models agree that `avg_rating_by_driver` is an important feature\n",
    "##### - Decision tree had better predictive performance than logistic regression"
   ]
  },
  {
   "cell_type": "markdown",
   "metadata": {},
   "source": [
    "### Summary"
   ]
  },
  {
   "cell_type": "markdown",
   "metadata": {},
   "source": [
    "##### - As of July 1, 2014, 18,804 (37.61%) of January signups are retained users because they were active in the month of June.\n",
    "##### - I created the `days_as_user` feature using the time difference between the 2 original date columns. I considered using this feature as the target for regression, but there is a higher degree of uncertainty associated with continuous predictions and I felt that the large amount of 0 values might skew the predictions. \n",
    "##### - I chose logistic regression and decision tree for classification because these models are easy to interpret. Decision tree performed better overall, but both of them had a high false-negative rate. In other words, most of the misclassifications were active users being predicted as inactive users.\n",
    "##### - Logistic regression model (accuracy of 0.7626 and ROC AUC score of 0.5302): used features `ultimate_black_user`, `avg_rating_by_driver`, and `trips_in_first_30_days`\n",
    "##### - Decision tree model (accuracy of 0.7932 and ROC AUC score of 0.6408): used features `avg_rating_by_driver`, `surge_pct`, and `city`\n",
    "##### - According to these classifiers, users who use the service in their first 30 days or use Ultimate Black are more likely to be active in their 6th month. Offering a percentage-off promotion for either or both of these is likely to increase user retention.\n",
    "##### - Surge and rating by driver also seem to have some impact on the decision. Increasing surge frequency/rate and reaching out to drivers to resolve any low ratings may also increase user retention."
   ]
  },
  {
   "cell_type": "code",
   "execution_count": null,
   "metadata": {},
   "outputs": [],
   "source": []
  }
 ],
 "metadata": {
  "kernelspec": {
   "display_name": "Python 3 (ipykernel)",
   "language": "python",
   "name": "python3"
  },
  "language_info": {
   "codemirror_mode": {
    "name": "ipython",
    "version": 3
   },
   "file_extension": ".py",
   "mimetype": "text/x-python",
   "name": "python",
   "nbconvert_exporter": "python",
   "pygments_lexer": "ipython3",
   "version": "3.9.7"
  }
 },
 "nbformat": 4,
 "nbformat_minor": 4
}
